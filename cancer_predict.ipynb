{
  "nbformat": 4,
  "nbformat_minor": 0,
  "metadata": {
    "colab": {
      "name": "cancer_predict.ipynb",
      "provenance": [],
      "authorship_tag": "ABX9TyOkfoRLJm29+BgDmpV/MkC9",
      "include_colab_link": true
    },
    "kernelspec": {
      "name": "python3",
      "display_name": "Python 3"
    },
    "language_info": {
      "name": "python"
    },
    "accelerator": "GPU"
  },
  "cells": [
    {
      "cell_type": "markdown",
      "metadata": {
        "id": "view-in-github",
        "colab_type": "text"
      },
      "source": [
        "<a href=\"https://colab.research.google.com/github/TokyoProgramming/Cancer_Predict/blob/main/cancer_predict.ipynb\" target=\"_parent\"><img src=\"https://colab.research.google.com/assets/colab-badge.svg\" alt=\"Open In Colab\"/></a>"
      ]
    },
    {
      "cell_type": "code",
      "metadata": {
        "colab": {
          "base_uri": "https://localhost:8080/"
        },
        "id": "zIMTl1aqAW5F",
        "outputId": "66bc43a8-3c44-44a1-810b-7b5d8fd4f44a"
      },
      "source": [
        "!pip install -Uqq fastbook\n",
        "import fastbook\n",
        "fastbook.setup_book()\n",
        "from fastai.text.all import *\n",
        "from fastai.text.all import *\n",
        "%reload_ext autoreload\n",
        "%autoreload 2\n",
        "%matplotlib inline\n",
        "import pandas as pd\n",
        "import numpy as np\n",
        "\n",
        "from google.colab import drive \n",
        "drive.mount('/content/gdrive')"
      ],
      "execution_count": 1,
      "outputs": [
        {
          "output_type": "stream",
          "text": [
            "\u001b[K     |████████████████████████████████| 727kB 14.7MB/s \n",
            "\u001b[K     |████████████████████████████████| 51kB 7.3MB/s \n",
            "\u001b[K     |████████████████████████████████| 1.2MB 27.0MB/s \n",
            "\u001b[K     |████████████████████████████████| 204kB 37.1MB/s \n",
            "\u001b[K     |████████████████████████████████| 61kB 9.2MB/s \n",
            "\u001b[K     |████████████████████████████████| 61kB 8.7MB/s \n",
            "\u001b[?25hMounted at /content/gdrive\n",
            "Drive already mounted at /content/gdrive; to attempt to forcibly remount, call drive.mount(\"/content/gdrive\", force_remount=True).\n"
          ],
          "name": "stdout"
        }
      ]
    },
    {
      "cell_type": "code",
      "metadata": {
        "id": "FutIXD1oBHQK"
      },
      "source": [
        "from fastai.tabular.all import *\n",
        "from sklearn.model_selection import train_test_split\n"
      ],
      "execution_count": 2,
      "outputs": []
    },
    {
      "cell_type": "code",
      "metadata": {
        "colab": {
          "base_uri": "https://localhost:8080/",
          "height": 268
        },
        "id": "wSp-_waMWsrQ",
        "outputId": "ef89f6f9-79a7-4b06-90ef-17487ecd78d0"
      },
      "source": [
        "cancer = pd.read_csv(\"http://logopt.com/data/cancer.csv\", index_col=0)\n",
        "cancer.head()"
      ],
      "execution_count": 3,
      "outputs": [
        {
          "output_type": "execute_result",
          "data": {
            "text/html": [
              "<div>\n",
              "<style scoped>\n",
              "    .dataframe tbody tr th:only-of-type {\n",
              "        vertical-align: middle;\n",
              "    }\n",
              "\n",
              "    .dataframe tbody tr th {\n",
              "        vertical-align: top;\n",
              "    }\n",
              "\n",
              "    .dataframe thead th {\n",
              "        text-align: right;\n",
              "    }\n",
              "</style>\n",
              "<table border=\"1\" class=\"dataframe\">\n",
              "  <thead>\n",
              "    <tr style=\"text-align: right;\">\n",
              "      <th></th>\n",
              "      <th>diagnosis</th>\n",
              "      <th>radius_mean</th>\n",
              "      <th>texture_mean</th>\n",
              "      <th>perimeter_mean</th>\n",
              "      <th>area_mean</th>\n",
              "      <th>smoothness_mean</th>\n",
              "      <th>compactness_mean</th>\n",
              "      <th>concavity_mean</th>\n",
              "      <th>concave points_mean</th>\n",
              "      <th>symmetry_mean</th>\n",
              "      <th>fractal_dimension_mean</th>\n",
              "      <th>radius_se</th>\n",
              "      <th>texture_se</th>\n",
              "      <th>perimeter_se</th>\n",
              "      <th>area_se</th>\n",
              "      <th>smoothness_se</th>\n",
              "      <th>compactness_se</th>\n",
              "      <th>concavity_se</th>\n",
              "      <th>concave points_se</th>\n",
              "      <th>symmetry_se</th>\n",
              "      <th>fractal_dimension_se</th>\n",
              "      <th>radius_worst</th>\n",
              "      <th>texture_worst</th>\n",
              "      <th>perimeter_worst</th>\n",
              "      <th>area_worst</th>\n",
              "      <th>smoothness_worst</th>\n",
              "      <th>compactness_worst</th>\n",
              "      <th>concavity_worst</th>\n",
              "      <th>concave points_worst</th>\n",
              "      <th>symmetry_worst</th>\n",
              "      <th>fractal_dimension_worst</th>\n",
              "    </tr>\n",
              "    <tr>\n",
              "      <th>id</th>\n",
              "      <th></th>\n",
              "      <th></th>\n",
              "      <th></th>\n",
              "      <th></th>\n",
              "      <th></th>\n",
              "      <th></th>\n",
              "      <th></th>\n",
              "      <th></th>\n",
              "      <th></th>\n",
              "      <th></th>\n",
              "      <th></th>\n",
              "      <th></th>\n",
              "      <th></th>\n",
              "      <th></th>\n",
              "      <th></th>\n",
              "      <th></th>\n",
              "      <th></th>\n",
              "      <th></th>\n",
              "      <th></th>\n",
              "      <th></th>\n",
              "      <th></th>\n",
              "      <th></th>\n",
              "      <th></th>\n",
              "      <th></th>\n",
              "      <th></th>\n",
              "      <th></th>\n",
              "      <th></th>\n",
              "      <th></th>\n",
              "      <th></th>\n",
              "      <th></th>\n",
              "      <th></th>\n",
              "    </tr>\n",
              "  </thead>\n",
              "  <tbody>\n",
              "    <tr>\n",
              "      <th>842302</th>\n",
              "      <td>M</td>\n",
              "      <td>17.99</td>\n",
              "      <td>10.38</td>\n",
              "      <td>122.80</td>\n",
              "      <td>1001.0</td>\n",
              "      <td>0.11840</td>\n",
              "      <td>0.27760</td>\n",
              "      <td>0.3001</td>\n",
              "      <td>0.14710</td>\n",
              "      <td>0.2419</td>\n",
              "      <td>0.07871</td>\n",
              "      <td>1.0950</td>\n",
              "      <td>0.9053</td>\n",
              "      <td>8.589</td>\n",
              "      <td>153.40</td>\n",
              "      <td>0.006399</td>\n",
              "      <td>0.04904</td>\n",
              "      <td>0.05373</td>\n",
              "      <td>0.01587</td>\n",
              "      <td>0.03003</td>\n",
              "      <td>0.006193</td>\n",
              "      <td>25.38</td>\n",
              "      <td>17.33</td>\n",
              "      <td>184.60</td>\n",
              "      <td>2019.0</td>\n",
              "      <td>0.1622</td>\n",
              "      <td>0.6656</td>\n",
              "      <td>0.7119</td>\n",
              "      <td>0.2654</td>\n",
              "      <td>0.4601</td>\n",
              "      <td>0.11890</td>\n",
              "    </tr>\n",
              "    <tr>\n",
              "      <th>842517</th>\n",
              "      <td>M</td>\n",
              "      <td>20.57</td>\n",
              "      <td>17.77</td>\n",
              "      <td>132.90</td>\n",
              "      <td>1326.0</td>\n",
              "      <td>0.08474</td>\n",
              "      <td>0.07864</td>\n",
              "      <td>0.0869</td>\n",
              "      <td>0.07017</td>\n",
              "      <td>0.1812</td>\n",
              "      <td>0.05667</td>\n",
              "      <td>0.5435</td>\n",
              "      <td>0.7339</td>\n",
              "      <td>3.398</td>\n",
              "      <td>74.08</td>\n",
              "      <td>0.005225</td>\n",
              "      <td>0.01308</td>\n",
              "      <td>0.01860</td>\n",
              "      <td>0.01340</td>\n",
              "      <td>0.01389</td>\n",
              "      <td>0.003532</td>\n",
              "      <td>24.99</td>\n",
              "      <td>23.41</td>\n",
              "      <td>158.80</td>\n",
              "      <td>1956.0</td>\n",
              "      <td>0.1238</td>\n",
              "      <td>0.1866</td>\n",
              "      <td>0.2416</td>\n",
              "      <td>0.1860</td>\n",
              "      <td>0.2750</td>\n",
              "      <td>0.08902</td>\n",
              "    </tr>\n",
              "    <tr>\n",
              "      <th>84300903</th>\n",
              "      <td>M</td>\n",
              "      <td>19.69</td>\n",
              "      <td>21.25</td>\n",
              "      <td>130.00</td>\n",
              "      <td>1203.0</td>\n",
              "      <td>0.10960</td>\n",
              "      <td>0.15990</td>\n",
              "      <td>0.1974</td>\n",
              "      <td>0.12790</td>\n",
              "      <td>0.2069</td>\n",
              "      <td>0.05999</td>\n",
              "      <td>0.7456</td>\n",
              "      <td>0.7869</td>\n",
              "      <td>4.585</td>\n",
              "      <td>94.03</td>\n",
              "      <td>0.006150</td>\n",
              "      <td>0.04006</td>\n",
              "      <td>0.03832</td>\n",
              "      <td>0.02058</td>\n",
              "      <td>0.02250</td>\n",
              "      <td>0.004571</td>\n",
              "      <td>23.57</td>\n",
              "      <td>25.53</td>\n",
              "      <td>152.50</td>\n",
              "      <td>1709.0</td>\n",
              "      <td>0.1444</td>\n",
              "      <td>0.4245</td>\n",
              "      <td>0.4504</td>\n",
              "      <td>0.2430</td>\n",
              "      <td>0.3613</td>\n",
              "      <td>0.08758</td>\n",
              "    </tr>\n",
              "    <tr>\n",
              "      <th>84348301</th>\n",
              "      <td>M</td>\n",
              "      <td>11.42</td>\n",
              "      <td>20.38</td>\n",
              "      <td>77.58</td>\n",
              "      <td>386.1</td>\n",
              "      <td>0.14250</td>\n",
              "      <td>0.28390</td>\n",
              "      <td>0.2414</td>\n",
              "      <td>0.10520</td>\n",
              "      <td>0.2597</td>\n",
              "      <td>0.09744</td>\n",
              "      <td>0.4956</td>\n",
              "      <td>1.1560</td>\n",
              "      <td>3.445</td>\n",
              "      <td>27.23</td>\n",
              "      <td>0.009110</td>\n",
              "      <td>0.07458</td>\n",
              "      <td>0.05661</td>\n",
              "      <td>0.01867</td>\n",
              "      <td>0.05963</td>\n",
              "      <td>0.009208</td>\n",
              "      <td>14.91</td>\n",
              "      <td>26.50</td>\n",
              "      <td>98.87</td>\n",
              "      <td>567.7</td>\n",
              "      <td>0.2098</td>\n",
              "      <td>0.8663</td>\n",
              "      <td>0.6869</td>\n",
              "      <td>0.2575</td>\n",
              "      <td>0.6638</td>\n",
              "      <td>0.17300</td>\n",
              "    </tr>\n",
              "    <tr>\n",
              "      <th>84358402</th>\n",
              "      <td>M</td>\n",
              "      <td>20.29</td>\n",
              "      <td>14.34</td>\n",
              "      <td>135.10</td>\n",
              "      <td>1297.0</td>\n",
              "      <td>0.10030</td>\n",
              "      <td>0.13280</td>\n",
              "      <td>0.1980</td>\n",
              "      <td>0.10430</td>\n",
              "      <td>0.1809</td>\n",
              "      <td>0.05883</td>\n",
              "      <td>0.7572</td>\n",
              "      <td>0.7813</td>\n",
              "      <td>5.438</td>\n",
              "      <td>94.44</td>\n",
              "      <td>0.011490</td>\n",
              "      <td>0.02461</td>\n",
              "      <td>0.05688</td>\n",
              "      <td>0.01885</td>\n",
              "      <td>0.01756</td>\n",
              "      <td>0.005115</td>\n",
              "      <td>22.54</td>\n",
              "      <td>16.67</td>\n",
              "      <td>152.20</td>\n",
              "      <td>1575.0</td>\n",
              "      <td>0.1374</td>\n",
              "      <td>0.2050</td>\n",
              "      <td>0.4000</td>\n",
              "      <td>0.1625</td>\n",
              "      <td>0.2364</td>\n",
              "      <td>0.07678</td>\n",
              "    </tr>\n",
              "  </tbody>\n",
              "</table>\n",
              "</div>"
            ],
            "text/plain": [
              "         diagnosis  radius_mean  texture_mean  perimeter_mean  area_mean  \\\n",
              "id                                                                         \n",
              "842302           M        17.99         10.38          122.80     1001.0   \n",
              "842517           M        20.57         17.77          132.90     1326.0   \n",
              "84300903         M        19.69         21.25          130.00     1203.0   \n",
              "84348301         M        11.42         20.38           77.58      386.1   \n",
              "84358402         M        20.29         14.34          135.10     1297.0   \n",
              "\n",
              "          smoothness_mean  compactness_mean  concavity_mean  \\\n",
              "id                                                            \n",
              "842302            0.11840           0.27760          0.3001   \n",
              "842517            0.08474           0.07864          0.0869   \n",
              "84300903          0.10960           0.15990          0.1974   \n",
              "84348301          0.14250           0.28390          0.2414   \n",
              "84358402          0.10030           0.13280          0.1980   \n",
              "\n",
              "          concave points_mean  symmetry_mean  fractal_dimension_mean  \\\n",
              "id                                                                     \n",
              "842302                0.14710         0.2419                 0.07871   \n",
              "842517                0.07017         0.1812                 0.05667   \n",
              "84300903              0.12790         0.2069                 0.05999   \n",
              "84348301              0.10520         0.2597                 0.09744   \n",
              "84358402              0.10430         0.1809                 0.05883   \n",
              "\n",
              "          radius_se  texture_se  perimeter_se  area_se  smoothness_se  \\\n",
              "id                                                                      \n",
              "842302       1.0950      0.9053         8.589   153.40       0.006399   \n",
              "842517       0.5435      0.7339         3.398    74.08       0.005225   \n",
              "84300903     0.7456      0.7869         4.585    94.03       0.006150   \n",
              "84348301     0.4956      1.1560         3.445    27.23       0.009110   \n",
              "84358402     0.7572      0.7813         5.438    94.44       0.011490   \n",
              "\n",
              "          compactness_se  concavity_se  concave points_se  symmetry_se  \\\n",
              "id                                                                       \n",
              "842302           0.04904       0.05373            0.01587      0.03003   \n",
              "842517           0.01308       0.01860            0.01340      0.01389   \n",
              "84300903         0.04006       0.03832            0.02058      0.02250   \n",
              "84348301         0.07458       0.05661            0.01867      0.05963   \n",
              "84358402         0.02461       0.05688            0.01885      0.01756   \n",
              "\n",
              "          fractal_dimension_se  radius_worst  texture_worst  perimeter_worst  \\\n",
              "id                                                                             \n",
              "842302                0.006193         25.38          17.33           184.60   \n",
              "842517                0.003532         24.99          23.41           158.80   \n",
              "84300903              0.004571         23.57          25.53           152.50   \n",
              "84348301              0.009208         14.91          26.50            98.87   \n",
              "84358402              0.005115         22.54          16.67           152.20   \n",
              "\n",
              "          area_worst  smoothness_worst  compactness_worst  concavity_worst  \\\n",
              "id                                                                           \n",
              "842302        2019.0            0.1622             0.6656           0.7119   \n",
              "842517        1956.0            0.1238             0.1866           0.2416   \n",
              "84300903      1709.0            0.1444             0.4245           0.4504   \n",
              "84348301       567.7            0.2098             0.8663           0.6869   \n",
              "84358402      1575.0            0.1374             0.2050           0.4000   \n",
              "\n",
              "          concave points_worst  symmetry_worst  fractal_dimension_worst  \n",
              "id                                                                       \n",
              "842302                  0.2654          0.4601                  0.11890  \n",
              "842517                  0.1860          0.2750                  0.08902  \n",
              "84300903                0.2430          0.3613                  0.08758  \n",
              "84348301                0.2575          0.6638                  0.17300  \n",
              "84358402                0.1625          0.2364                  0.07678  "
            ]
          },
          "metadata": {
            "tags": []
          },
          "execution_count": 3
        }
      ]
    },
    {
      "cell_type": "code",
      "metadata": {
        "id": "tXShzDF7WtCR"
      },
      "source": [
        "dep_var = 'diagnosis'\n",
        "procs = [Categorify, FillMissing, Normalize]\n",
        "train_idx, test_idx = train_test_split(range(len(cancer)), test_size = 0.3)\n",
        "cont_names, cat_names = cont_cat_split(cancer, max_card = 50, dep_var = dep_var)"
      ],
      "execution_count": 4,
      "outputs": []
    },
    {
      "cell_type": "code",
      "metadata": {
        "colab": {
          "base_uri": "https://localhost:8080/"
        },
        "id": "PNxrcWT_BJbW",
        "outputId": "a0b6ff54-4288-4ab1-b510-68a437c3ff85"
      },
      "source": [
        "len(train_idx), len(test_idx)"
      ],
      "execution_count": 5,
      "outputs": [
        {
          "output_type": "execute_result",
          "data": {
            "text/plain": [
              "(398, 171)"
            ]
          },
          "metadata": {
            "tags": []
          },
          "execution_count": 5
        }
      ]
    },
    {
      "cell_type": "code",
      "metadata": {
        "id": "bY9A7_7EAkO2"
      },
      "source": [
        "train = cancer.iloc[train_idx]\n",
        "test = cancer.iloc[test_idx]\n"
      ],
      "execution_count": 6,
      "outputs": []
    },
    {
      "cell_type": "code",
      "metadata": {
        "colab": {
          "base_uri": "https://localhost:8080/"
        },
        "id": "CDmdnPV__VZD",
        "outputId": "e4363f9e-50b6-439d-d221-e3adbbdb9e48"
      },
      "source": [
        "train.shape, test.shape\n",
        "\n"
      ],
      "execution_count": 10,
      "outputs": [
        {
          "output_type": "execute_result",
          "data": {
            "text/plain": [
              "((398, 31), (171, 31))"
            ]
          },
          "metadata": {
            "tags": []
          },
          "execution_count": 10
        }
      ]
    },
    {
      "cell_type": "code",
      "metadata": {
        "colab": {
          "base_uri": "https://localhost:8080/"
        },
        "id": "HHfWIukHW18R",
        "outputId": "1b39a8eb-6229-49c5-a105-9ce5f06d7c84"
      },
      "source": [
        "cont_names, cat_names"
      ],
      "execution_count": 11,
      "outputs": [
        {
          "output_type": "execute_result",
          "data": {
            "text/plain": [
              "(['radius_mean',\n",
              "  'texture_mean',\n",
              "  'perimeter_mean',\n",
              "  'area_mean',\n",
              "  'smoothness_mean',\n",
              "  'compactness_mean',\n",
              "  'concavity_mean',\n",
              "  'concave points_mean',\n",
              "  'symmetry_mean',\n",
              "  'fractal_dimension_mean',\n",
              "  'radius_se',\n",
              "  'texture_se',\n",
              "  'perimeter_se',\n",
              "  'area_se',\n",
              "  'smoothness_se',\n",
              "  'compactness_se',\n",
              "  'concavity_se',\n",
              "  'concave points_se',\n",
              "  'symmetry_se',\n",
              "  'fractal_dimension_se',\n",
              "  'radius_worst',\n",
              "  'texture_worst',\n",
              "  'perimeter_worst',\n",
              "  'area_worst',\n",
              "  'smoothness_worst',\n",
              "  'compactness_worst',\n",
              "  'concavity_worst',\n",
              "  'concave points_worst',\n",
              "  'symmetry_worst',\n",
              "  'fractal_dimension_worst'],\n",
              " [])"
            ]
          },
          "metadata": {
            "tags": []
          },
          "execution_count": 11
        }
      ]
    },
    {
      "cell_type": "code",
      "metadata": {
        "id": "ROexiUw0W3it"
      },
      "source": [
        "dls = TabularDataLoaders.from_df(train, y_names='diagnosis', cat_names= cat_names ,cont_names=cont_names, procs= procs, bs=64)"
      ],
      "execution_count": 12,
      "outputs": []
    },
    {
      "cell_type": "code",
      "metadata": {
        "colab": {
          "base_uri": "https://localhost:8080/",
          "height": 392
        },
        "id": "rN5N9g0mX8E0",
        "outputId": "ae622bf7-aa12-44ee-e95b-6df9233f9771"
      },
      "source": [
        "dls.show_batch()"
      ],
      "execution_count": 14,
      "outputs": [
        {
          "output_type": "display_data",
          "data": {
            "text/html": [
              "<table border=\"1\" class=\"dataframe\">\n",
              "  <thead>\n",
              "    <tr style=\"text-align: right;\">\n",
              "      <th></th>\n",
              "      <th>radius_mean</th>\n",
              "      <th>texture_mean</th>\n",
              "      <th>perimeter_mean</th>\n",
              "      <th>area_mean</th>\n",
              "      <th>smoothness_mean</th>\n",
              "      <th>compactness_mean</th>\n",
              "      <th>concavity_mean</th>\n",
              "      <th>concave points_mean</th>\n",
              "      <th>symmetry_mean</th>\n",
              "      <th>fractal_dimension_mean</th>\n",
              "      <th>radius_se</th>\n",
              "      <th>texture_se</th>\n",
              "      <th>perimeter_se</th>\n",
              "      <th>area_se</th>\n",
              "      <th>smoothness_se</th>\n",
              "      <th>compactness_se</th>\n",
              "      <th>concavity_se</th>\n",
              "      <th>concave points_se</th>\n",
              "      <th>symmetry_se</th>\n",
              "      <th>fractal_dimension_se</th>\n",
              "      <th>radius_worst</th>\n",
              "      <th>texture_worst</th>\n",
              "      <th>perimeter_worst</th>\n",
              "      <th>area_worst</th>\n",
              "      <th>smoothness_worst</th>\n",
              "      <th>compactness_worst</th>\n",
              "      <th>concavity_worst</th>\n",
              "      <th>concave points_worst</th>\n",
              "      <th>symmetry_worst</th>\n",
              "      <th>fractal_dimension_worst</th>\n",
              "      <th>diagnosis</th>\n",
              "    </tr>\n",
              "  </thead>\n",
              "  <tbody>\n",
              "    <tr>\n",
              "      <th>0</th>\n",
              "      <td>13.690000</td>\n",
              "      <td>16.070000</td>\n",
              "      <td>87.839996</td>\n",
              "      <td>579.099977</td>\n",
              "      <td>0.08302</td>\n",
              "      <td>0.06374</td>\n",
              "      <td>0.025560</td>\n",
              "      <td>0.020310</td>\n",
              "      <td>0.1872</td>\n",
              "      <td>0.05669</td>\n",
              "      <td>0.1705</td>\n",
              "      <td>0.5066</td>\n",
              "      <td>1.372</td>\n",
              "      <td>13.999999</td>\n",
              "      <td>0.004230</td>\n",
              "      <td>0.015870</td>\n",
              "      <td>0.011690</td>\n",
              "      <td>0.006335</td>\n",
              "      <td>0.01943</td>\n",
              "      <td>0.002177</td>\n",
              "      <td>14.840000</td>\n",
              "      <td>20.209999</td>\n",
              "      <td>99.160003</td>\n",
              "      <td>670.599975</td>\n",
              "      <td>0.1105</td>\n",
              "      <td>0.20960</td>\n",
              "      <td>0.13460</td>\n",
              "      <td>0.06987</td>\n",
              "      <td>0.3323</td>\n",
              "      <td>0.07701</td>\n",
              "      <td>B</td>\n",
              "    </tr>\n",
              "    <tr>\n",
              "      <th>1</th>\n",
              "      <td>12.490000</td>\n",
              "      <td>16.850000</td>\n",
              "      <td>79.190003</td>\n",
              "      <td>481.599999</td>\n",
              "      <td>0.08511</td>\n",
              "      <td>0.03834</td>\n",
              "      <td>0.004473</td>\n",
              "      <td>0.006423</td>\n",
              "      <td>0.1215</td>\n",
              "      <td>0.05673</td>\n",
              "      <td>0.1716</td>\n",
              "      <td>0.7151</td>\n",
              "      <td>1.047</td>\n",
              "      <td>12.690000</td>\n",
              "      <td>0.004928</td>\n",
              "      <td>0.003012</td>\n",
              "      <td>0.002620</td>\n",
              "      <td>0.003390</td>\n",
              "      <td>0.01393</td>\n",
              "      <td>0.001344</td>\n",
              "      <td>13.340000</td>\n",
              "      <td>19.709999</td>\n",
              "      <td>84.480004</td>\n",
              "      <td>544.200022</td>\n",
              "      <td>0.1104</td>\n",
              "      <td>0.04953</td>\n",
              "      <td>0.01938</td>\n",
              "      <td>0.02784</td>\n",
              "      <td>0.1917</td>\n",
              "      <td>0.06174</td>\n",
              "      <td>B</td>\n",
              "    </tr>\n",
              "    <tr>\n",
              "      <th>2</th>\n",
              "      <td>13.540000</td>\n",
              "      <td>14.360000</td>\n",
              "      <td>87.459999</td>\n",
              "      <td>566.299985</td>\n",
              "      <td>0.09779</td>\n",
              "      <td>0.08129</td>\n",
              "      <td>0.066640</td>\n",
              "      <td>0.047810</td>\n",
              "      <td>0.1885</td>\n",
              "      <td>0.05766</td>\n",
              "      <td>0.2699</td>\n",
              "      <td>0.7886</td>\n",
              "      <td>2.058</td>\n",
              "      <td>23.559999</td>\n",
              "      <td>0.008462</td>\n",
              "      <td>0.014600</td>\n",
              "      <td>0.023870</td>\n",
              "      <td>0.013150</td>\n",
              "      <td>0.01980</td>\n",
              "      <td>0.002300</td>\n",
              "      <td>15.110000</td>\n",
              "      <td>19.260000</td>\n",
              "      <td>99.699997</td>\n",
              "      <td>711.200013</td>\n",
              "      <td>0.1440</td>\n",
              "      <td>0.17730</td>\n",
              "      <td>0.23900</td>\n",
              "      <td>0.12880</td>\n",
              "      <td>0.2977</td>\n",
              "      <td>0.07259</td>\n",
              "      <td>B</td>\n",
              "    </tr>\n",
              "    <tr>\n",
              "      <th>3</th>\n",
              "      <td>19.450001</td>\n",
              "      <td>19.330000</td>\n",
              "      <td>126.500000</td>\n",
              "      <td>1168.999990</td>\n",
              "      <td>0.10350</td>\n",
              "      <td>0.11880</td>\n",
              "      <td>0.137900</td>\n",
              "      <td>0.085910</td>\n",
              "      <td>0.1776</td>\n",
              "      <td>0.05647</td>\n",
              "      <td>0.5959</td>\n",
              "      <td>0.6342</td>\n",
              "      <td>3.797</td>\n",
              "      <td>71.000000</td>\n",
              "      <td>0.004649</td>\n",
              "      <td>0.018000</td>\n",
              "      <td>0.027490</td>\n",
              "      <td>0.012670</td>\n",
              "      <td>0.01365</td>\n",
              "      <td>0.002550</td>\n",
              "      <td>25.700001</td>\n",
              "      <td>24.570000</td>\n",
              "      <td>163.100007</td>\n",
              "      <td>1971.999975</td>\n",
              "      <td>0.1497</td>\n",
              "      <td>0.31610</td>\n",
              "      <td>0.43170</td>\n",
              "      <td>0.19990</td>\n",
              "      <td>0.3379</td>\n",
              "      <td>0.08950</td>\n",
              "      <td>M</td>\n",
              "    </tr>\n",
              "    <tr>\n",
              "      <th>4</th>\n",
              "      <td>9.504000</td>\n",
              "      <td>12.440000</td>\n",
              "      <td>60.340000</td>\n",
              "      <td>273.899989</td>\n",
              "      <td>0.10240</td>\n",
              "      <td>0.06492</td>\n",
              "      <td>0.029560</td>\n",
              "      <td>0.020760</td>\n",
              "      <td>0.1815</td>\n",
              "      <td>0.06905</td>\n",
              "      <td>0.2773</td>\n",
              "      <td>0.9768</td>\n",
              "      <td>1.909</td>\n",
              "      <td>15.700000</td>\n",
              "      <td>0.009606</td>\n",
              "      <td>0.014320</td>\n",
              "      <td>0.019850</td>\n",
              "      <td>0.014210</td>\n",
              "      <td>0.02027</td>\n",
              "      <td>0.002968</td>\n",
              "      <td>10.230000</td>\n",
              "      <td>15.660000</td>\n",
              "      <td>65.129997</td>\n",
              "      <td>314.900002</td>\n",
              "      <td>0.1324</td>\n",
              "      <td>0.11480</td>\n",
              "      <td>0.08867</td>\n",
              "      <td>0.06227</td>\n",
              "      <td>0.2450</td>\n",
              "      <td>0.07773</td>\n",
              "      <td>B</td>\n",
              "    </tr>\n",
              "    <tr>\n",
              "      <th>5</th>\n",
              "      <td>10.900000</td>\n",
              "      <td>12.960000</td>\n",
              "      <td>68.690002</td>\n",
              "      <td>366.799995</td>\n",
              "      <td>0.07515</td>\n",
              "      <td>0.03718</td>\n",
              "      <td>0.003090</td>\n",
              "      <td>0.006588</td>\n",
              "      <td>0.1442</td>\n",
              "      <td>0.05743</td>\n",
              "      <td>0.2818</td>\n",
              "      <td>0.7614</td>\n",
              "      <td>1.808</td>\n",
              "      <td>18.540002</td>\n",
              "      <td>0.006142</td>\n",
              "      <td>0.006134</td>\n",
              "      <td>0.001835</td>\n",
              "      <td>0.003576</td>\n",
              "      <td>0.01637</td>\n",
              "      <td>0.002665</td>\n",
              "      <td>12.360000</td>\n",
              "      <td>18.200001</td>\n",
              "      <td>78.069999</td>\n",
              "      <td>470.000002</td>\n",
              "      <td>0.1171</td>\n",
              "      <td>0.08294</td>\n",
              "      <td>0.01854</td>\n",
              "      <td>0.03953</td>\n",
              "      <td>0.2738</td>\n",
              "      <td>0.07685</td>\n",
              "      <td>B</td>\n",
              "    </tr>\n",
              "    <tr>\n",
              "      <th>6</th>\n",
              "      <td>13.770000</td>\n",
              "      <td>13.270000</td>\n",
              "      <td>88.059998</td>\n",
              "      <td>582.700011</td>\n",
              "      <td>0.09198</td>\n",
              "      <td>0.06221</td>\n",
              "      <td>0.010630</td>\n",
              "      <td>0.019170</td>\n",
              "      <td>0.1592</td>\n",
              "      <td>0.05912</td>\n",
              "      <td>0.2191</td>\n",
              "      <td>0.6946</td>\n",
              "      <td>1.479</td>\n",
              "      <td>17.739999</td>\n",
              "      <td>0.004348</td>\n",
              "      <td>0.008153</td>\n",
              "      <td>0.004272</td>\n",
              "      <td>0.006829</td>\n",
              "      <td>0.02154</td>\n",
              "      <td>0.001802</td>\n",
              "      <td>14.670000</td>\n",
              "      <td>16.930000</td>\n",
              "      <td>94.169998</td>\n",
              "      <td>661.099971</td>\n",
              "      <td>0.1170</td>\n",
              "      <td>0.10720</td>\n",
              "      <td>0.03732</td>\n",
              "      <td>0.05802</td>\n",
              "      <td>0.2823</td>\n",
              "      <td>0.06794</td>\n",
              "      <td>B</td>\n",
              "    </tr>\n",
              "    <tr>\n",
              "      <th>7</th>\n",
              "      <td>14.420000</td>\n",
              "      <td>19.770000</td>\n",
              "      <td>94.480003</td>\n",
              "      <td>642.499999</td>\n",
              "      <td>0.09752</td>\n",
              "      <td>0.11410</td>\n",
              "      <td>0.093880</td>\n",
              "      <td>0.058390</td>\n",
              "      <td>0.1879</td>\n",
              "      <td>0.06390</td>\n",
              "      <td>0.2895</td>\n",
              "      <td>1.8510</td>\n",
              "      <td>2.376</td>\n",
              "      <td>26.850000</td>\n",
              "      <td>0.008005</td>\n",
              "      <td>0.028950</td>\n",
              "      <td>0.033210</td>\n",
              "      <td>0.014240</td>\n",
              "      <td>0.01462</td>\n",
              "      <td>0.004452</td>\n",
              "      <td>16.330000</td>\n",
              "      <td>30.860001</td>\n",
              "      <td>109.500000</td>\n",
              "      <td>826.400023</td>\n",
              "      <td>0.1431</td>\n",
              "      <td>0.30260</td>\n",
              "      <td>0.31940</td>\n",
              "      <td>0.15650</td>\n",
              "      <td>0.2718</td>\n",
              "      <td>0.09353</td>\n",
              "      <td>M</td>\n",
              "    </tr>\n",
              "    <tr>\n",
              "      <th>8</th>\n",
              "      <td>19.790001</td>\n",
              "      <td>25.120001</td>\n",
              "      <td>130.399995</td>\n",
              "      <td>1191.999990</td>\n",
              "      <td>0.10150</td>\n",
              "      <td>0.15890</td>\n",
              "      <td>0.254500</td>\n",
              "      <td>0.114900</td>\n",
              "      <td>0.2202</td>\n",
              "      <td>0.06113</td>\n",
              "      <td>0.4953</td>\n",
              "      <td>1.1990</td>\n",
              "      <td>2.765</td>\n",
              "      <td>63.330001</td>\n",
              "      <td>0.005033</td>\n",
              "      <td>0.031790</td>\n",
              "      <td>0.047550</td>\n",
              "      <td>0.010430</td>\n",
              "      <td>0.01578</td>\n",
              "      <td>0.003224</td>\n",
              "      <td>22.629999</td>\n",
              "      <td>33.580002</td>\n",
              "      <td>148.699995</td>\n",
              "      <td>1588.999992</td>\n",
              "      <td>0.1275</td>\n",
              "      <td>0.38610</td>\n",
              "      <td>0.56730</td>\n",
              "      <td>0.17320</td>\n",
              "      <td>0.3305</td>\n",
              "      <td>0.08465</td>\n",
              "      <td>M</td>\n",
              "    </tr>\n",
              "    <tr>\n",
              "      <th>9</th>\n",
              "      <td>17.020000</td>\n",
              "      <td>23.979999</td>\n",
              "      <td>112.800002</td>\n",
              "      <td>899.299996</td>\n",
              "      <td>0.11970</td>\n",
              "      <td>0.14960</td>\n",
              "      <td>0.241700</td>\n",
              "      <td>0.120300</td>\n",
              "      <td>0.2248</td>\n",
              "      <td>0.06382</td>\n",
              "      <td>0.6009</td>\n",
              "      <td>1.3980</td>\n",
              "      <td>3.999</td>\n",
              "      <td>67.779998</td>\n",
              "      <td>0.008268</td>\n",
              "      <td>0.030820</td>\n",
              "      <td>0.050420</td>\n",
              "      <td>0.011120</td>\n",
              "      <td>0.02102</td>\n",
              "      <td>0.003854</td>\n",
              "      <td>20.879999</td>\n",
              "      <td>32.090000</td>\n",
              "      <td>136.100006</td>\n",
              "      <td>1343.999989</td>\n",
              "      <td>0.1634</td>\n",
              "      <td>0.35590</td>\n",
              "      <td>0.55880</td>\n",
              "      <td>0.18470</td>\n",
              "      <td>0.3530</td>\n",
              "      <td>0.08482</td>\n",
              "      <td>M</td>\n",
              "    </tr>\n",
              "  </tbody>\n",
              "</table>"
            ],
            "text/plain": [
              "<IPython.core.display.HTML object>"
            ]
          },
          "metadata": {
            "tags": []
          }
        }
      ]
    },
    {
      "cell_type": "markdown",
      "metadata": {
        "id": "k3hnEK5IcFYu"
      },
      "source": [
        ""
      ]
    },
    {
      "cell_type": "code",
      "metadata": {
        "id": "FnoyStnzXFfN"
      },
      "source": [
        "learn = tabular_learner(dls, metrics=accuracy)"
      ],
      "execution_count": 15,
      "outputs": []
    },
    {
      "cell_type": "code",
      "metadata": {
        "colab": {
          "base_uri": "https://localhost:8080/",
          "height": 301
        },
        "id": "ExsMqA-lXT_k",
        "outputId": "a68c63bf-7bbb-4b5c-fc0a-ada6070954ff"
      },
      "source": [
        "learn.lr_find()"
      ],
      "execution_count": 16,
      "outputs": [
        {
          "output_type": "display_data",
          "data": {
            "text/html": [
              ""
            ],
            "text/plain": [
              "<IPython.core.display.HTML object>"
            ]
          },
          "metadata": {
            "tags": []
          }
        },
        {
          "output_type": "execute_result",
          "data": {
            "text/plain": [
              "SuggestedLRs(lr_min=0.07585775852203369, lr_steep=0.002511886414140463)"
            ]
          },
          "metadata": {
            "tags": []
          },
          "execution_count": 16
        },
        {
          "output_type": "display_data",
          "data": {
            "image/png": "[encoded data removed]",
            "text/plain": [
              "<Figure size 432x288 with 1 Axes>"
            ]
          },
          "metadata": {
            "tags": [],
            "needs_background": "light"
          }
        }
      ]
    },
    {
      "cell_type": "code",
      "metadata": {
        "colab": {
          "base_uri": "https://localhost:8080/",
          "height": 110
        },
        "id": "TtDkjXhKX3XV",
        "outputId": "b002e7cb-e436-4205-ea73-fdc5c59388da"
      },
      "source": [
        "learn.fit_one_cycle(2, 1e-3)"
      ],
      "execution_count": 17,
      "outputs": [
        {
          "output_type": "display_data",
          "data": {
            "text/html": [
              "<table border=\"1\" class=\"dataframe\">\n",
              "  <thead>\n",
              "    <tr style=\"text-align: left;\">\n",
              "      <th>epoch</th>\n",
              "      <th>train_loss</th>\n",
              "      <th>valid_loss</th>\n",
              "      <th>accuracy</th>\n",
              "      <th>time</th>\n",
              "    </tr>\n",
              "  </thead>\n",
              "  <tbody>\n",
              "    <tr>\n",
              "      <td>0</td>\n",
              "      <td>0.755721</td>\n",
              "      <td>0.608134</td>\n",
              "      <td>0.898734</td>\n",
              "      <td>00:00</td>\n",
              "    </tr>\n",
              "    <tr>\n",
              "      <td>1</td>\n",
              "      <td>0.496173</td>\n",
              "      <td>0.491093</td>\n",
              "      <td>0.924051</td>\n",
              "      <td>00:00</td>\n",
              "    </tr>\n",
              "  </tbody>\n",
              "</table>"
            ],
            "text/plain": [
              "<IPython.core.display.HTML object>"
            ]
          },
          "metadata": {
            "tags": []
          }
        }
      ]
    },
    {
      "cell_type": "code",
      "metadata": {
        "colab": {
          "base_uri": "https://localhost:8080/",
          "height": 16
        },
        "id": "8sW2leS7YPBJ",
        "outputId": "bce88db7-cad2-478f-888b-cb023f030448"
      },
      "source": [
        "row, clas, probs = learn.predict(cancer.iloc[4])"
      ],
      "execution_count": 18,
      "outputs": [
        {
          "output_type": "display_data",
          "data": {
            "text/html": [
              ""
            ],
            "text/plain": [
              "<IPython.core.display.HTML object>"
            ]
          },
          "metadata": {
            "tags": []
          }
        }
      ]
    },
    {
      "cell_type": "code",
      "metadata": {
        "colab": {
          "base_uri": "https://localhost:8080/"
        },
        "id": "1iGRV-7hYage",
        "outputId": "d53f41e7-6261-484f-994e-cd8182d09712"
      },
      "source": [
        "row['diagnosis'][0]"
      ],
      "execution_count": 19,
      "outputs": [
        {
          "output_type": "execute_result",
          "data": {
            "text/plain": [
              "1.0"
            ]
          },
          "metadata": {
            "tags": []
          },
          "execution_count": 19
        }
      ]
    },
    {
      "cell_type": "code",
      "metadata": {
        "id": "UJhwJpwAYbQg"
      },
      "source": [
        "\n",
        "import seaborn as sn\n",
        "import matplotlib.pyplot as plt\n",
        "\n",
        "pre_arr = []\n",
        "ans_arr = []\n",
        "\n",
        "def check_model(data, target_col):\n",
        "\n",
        "  size = len(data)\n",
        "\n",
        "  for k in range(size):\n",
        "    row, clas, probs = learn.predict(data.iloc[k])\n",
        "    res = row[target_col][0]\n",
        "    ans = data[target_col].values[k]\n",
        "    if(ans == 'M'):\n",
        "      ans = 1.0\n",
        "    elif(ans == 'B'):\n",
        "      ans = 0.0\n",
        "\n",
        "    pre_arr.append(res)\n",
        "    ans_arr.append(ans)\n",
        "    \n",
        "  # create confusion matrix from result\n",
        "  res_data = list(zip(ans_arr, pre_arr))\n",
        "  res_table = pd.DataFrame(res_data, columns = ['actual', 'predict'])\n",
        "  confusion_matrix = pd.crosstab(res_table['actual'], res_table['predict'], rownames=['Actual'], colnames=['Predicted'])\n",
        "  sn.heatmap(confusion_matrix, annot=True)\n",
        "  plt.show()\n",
        "  return confusion_matrix"
      ],
      "execution_count": 25,
      "outputs": []
    },
    {
      "cell_type": "code",
      "metadata": {
        "id": "4bdV6HyhiyDn"
      },
      "source": [
        "confusion_matrix = check_model(test, 'diagnosis')"
      ],
      "execution_count": null,
      "outputs": []
    },
    {
      "cell_type": "code",
      "metadata": {
        "id": "MXkDGW_5DtBa",
        "colab": {
          "base_uri": "https://localhost:8080/",
          "height": 141
        },
        "outputId": "6c9feb25-8cb5-4620-ccaa-5ae062826b4a"
      },
      "source": [
        "confusion_matrix"
      ],
      "execution_count": 27,
      "outputs": [
        {
          "output_type": "execute_result",
          "data": {
            "text/html": [
              "<div>\n",
              "<style scoped>\n",
              "    .dataframe tbody tr th:only-of-type {\n",
              "        vertical-align: middle;\n",
              "    }\n",
              "\n",
              "    .dataframe tbody tr th {\n",
              "        vertical-align: top;\n",
              "    }\n",
              "\n",
              "    .dataframe thead th {\n",
              "        text-align: right;\n",
              "    }\n",
              "</style>\n",
              "<table border=\"1\" class=\"dataframe\">\n",
              "  <thead>\n",
              "    <tr style=\"text-align: right;\">\n",
              "      <th>Predicted</th>\n",
              "      <th>0.0</th>\n",
              "      <th>1.0</th>\n",
              "    </tr>\n",
              "    <tr>\n",
              "      <th>Actual</th>\n",
              "      <th></th>\n",
              "      <th></th>\n",
              "    </tr>\n",
              "  </thead>\n",
              "  <tbody>\n",
              "    <tr>\n",
              "      <th>0.0</th>\n",
              "      <td>101</td>\n",
              "      <td>7</td>\n",
              "    </tr>\n",
              "    <tr>\n",
              "      <th>1.0</th>\n",
              "      <td>2</td>\n",
              "      <td>61</td>\n",
              "    </tr>\n",
              "  </tbody>\n",
              "</table>\n",
              "</div>"
            ],
            "text/plain": [
              "Predicted  0.0  1.0\n",
              "Actual             \n",
              "0.0        101    7\n",
              "1.0          2   61"
            ]
          },
          "metadata": {
            "tags": []
          },
          "execution_count": 27
        }
      ]
    },
    {
      "cell_type": "code",
      "metadata": {
        "id": "0nf74GHq_5MD"
      },
      "source": [
        ""
      ],
      "execution_count": null,
      "outputs": []
    }
  ]
}