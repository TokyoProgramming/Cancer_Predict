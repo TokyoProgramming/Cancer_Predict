{
  "nbformat": 4,
  "nbformat_minor": 0,
  "metadata": {
    "colab": {
      "name": "cancer_predict.ipynb",
      "provenance": [],
      "authorship_tag": "ABX9TyP4dnCUpr1TEYIixRTIrCbj",
      "include_colab_link": true
    },
    "kernelspec": {
      "name": "python3",
      "display_name": "Python 3"
    },
    "language_info": {
      "name": "python"
    },
    "accelerator": "GPU"
  },
  "cells": [
    {
      "cell_type": "markdown",
      "metadata": {
        "id": "view-in-github",
        "colab_type": "text"
      },
      "source": [
        "<a href=\"https://colab.research.google.com/github/TokyoProgramming/Cancer_Predict/blob/main/cancer_predict.ipynb\" target=\"_parent\"><img src=\"https://colab.research.google.com/assets/colab-badge.svg\" alt=\"Open In Colab\"/></a>"
      ]
    },
    {
      "cell_type": "code",
      "metadata": {
        "colab": {
          "base_uri": "https://localhost:8080/"
        },
        "id": "zIMTl1aqAW5F",
        "outputId": "09695fa8-6da7-4b63-8ee6-2f4eca1fadf8"
      },
      "source": [
        "!pip install -Uqq fastbook\n",
        "import fastbook\n",
        "fastbook.setup_book()\n",
        "from fastai.text.all import *\n",
        "from fastai.text.all import *\n",
        "%reload_ext autoreload\n",
        "%autoreload 2\n",
        "%matplotlib inline\n",
        "import pandas as pd\n",
        "import numpy as np\n",
        "\n",
        "from google.colab import drive \n",
        "drive.mount('/content/gdrive')"
      ],
      "execution_count": 1,
      "outputs": [
        {
          "output_type": "stream",
          "text": [
            "\u001b[K     |████████████████████████████████| 727kB 2.9MB/s \n",
            "\u001b[K     |████████████████████████████████| 204kB 13.9MB/s \n",
            "\u001b[K     |████████████████████████████████| 1.2MB 13.1MB/s \n",
            "\u001b[K     |████████████████████████████████| 51kB 5.5MB/s \n",
            "\u001b[K     |████████████████████████████████| 61kB 6.3MB/s \n",
            "\u001b[K     |████████████████████████████████| 61kB 6.8MB/s \n",
            "\u001b[?25hMounted at /content/gdrive\n",
            "Drive already mounted at /content/gdrive; to attempt to forcibly remount, call drive.mount(\"/content/gdrive\", force_remount=True).\n"
          ],
          "name": "stdout"
        }
      ]
    },
    {
      "cell_type": "code",
      "metadata": {
        "id": "FutIXD1oBHQK"
      },
      "source": [
        "from fastai.tabular.all import *\n",
        "from sklearn.model_selection import train_test_split\n"
      ],
      "execution_count": 2,
      "outputs": []
    },
    {
      "cell_type": "code",
      "metadata": {
        "colab": {
          "base_uri": "https://localhost:8080/",
          "height": 264
        },
        "id": "wSp-_waMWsrQ",
        "outputId": "01ad3a3a-961f-43d4-9ee0-c691a699b864"
      },
      "source": [
        "cancer = pd.read_csv(\"http://logopt.com/data/cancer.csv\", index_col=0)\n",
        "cancer.head()"
      ],
      "execution_count": 3,
      "outputs": [
        {
          "output_type": "execute_result",
          "data": {
            "text/html": [
              "<div>\n",
              "<style scoped>\n",
              "    .dataframe tbody tr th:only-of-type {\n",
              "        vertical-align: middle;\n",
              "    }\n",
              "\n",
              "    .dataframe tbody tr th {\n",
              "        vertical-align: top;\n",
              "    }\n",
              "\n",
              "    .dataframe thead th {\n",
              "        text-align: right;\n",
              "    }\n",
              "</style>\n",
              "<table border=\"1\" class=\"dataframe\">\n",
              "  <thead>\n",
              "    <tr style=\"text-align: right;\">\n",
              "      <th></th>\n",
              "      <th>diagnosis</th>\n",
              "      <th>radius_mean</th>\n",
              "      <th>texture_mean</th>\n",
              "      <th>perimeter_mean</th>\n",
              "      <th>area_mean</th>\n",
              "      <th>smoothness_mean</th>\n",
              "      <th>compactness_mean</th>\n",
              "      <th>concavity_mean</th>\n",
              "      <th>concave points_mean</th>\n",
              "      <th>symmetry_mean</th>\n",
              "      <th>fractal_dimension_mean</th>\n",
              "      <th>radius_se</th>\n",
              "      <th>texture_se</th>\n",
              "      <th>perimeter_se</th>\n",
              "      <th>area_se</th>\n",
              "      <th>smoothness_se</th>\n",
              "      <th>compactness_se</th>\n",
              "      <th>concavity_se</th>\n",
              "      <th>concave points_se</th>\n",
              "      <th>symmetry_se</th>\n",
              "      <th>fractal_dimension_se</th>\n",
              "      <th>radius_worst</th>\n",
              "      <th>texture_worst</th>\n",
              "      <th>perimeter_worst</th>\n",
              "      <th>area_worst</th>\n",
              "      <th>smoothness_worst</th>\n",
              "      <th>compactness_worst</th>\n",
              "      <th>concavity_worst</th>\n",
              "      <th>concave points_worst</th>\n",
              "      <th>symmetry_worst</th>\n",
              "      <th>fractal_dimension_worst</th>\n",
              "    </tr>\n",
              "    <tr>\n",
              "      <th>id</th>\n",
              "      <th></th>\n",
              "      <th></th>\n",
              "      <th></th>\n",
              "      <th></th>\n",
              "      <th></th>\n",
              "      <th></th>\n",
              "      <th></th>\n",
              "      <th></th>\n",
              "      <th></th>\n",
              "      <th></th>\n",
              "      <th></th>\n",
              "      <th></th>\n",
              "      <th></th>\n",
              "      <th></th>\n",
              "      <th></th>\n",
              "      <th></th>\n",
              "      <th></th>\n",
              "      <th></th>\n",
              "      <th></th>\n",
              "      <th></th>\n",
              "      <th></th>\n",
              "      <th></th>\n",
              "      <th></th>\n",
              "      <th></th>\n",
              "      <th></th>\n",
              "      <th></th>\n",
              "      <th></th>\n",
              "      <th></th>\n",
              "      <th></th>\n",
              "      <th></th>\n",
              "      <th></th>\n",
              "    </tr>\n",
              "  </thead>\n",
              "  <tbody>\n",
              "    <tr>\n",
              "      <th>842302</th>\n",
              "      <td>M</td>\n",
              "      <td>17.99</td>\n",
              "      <td>10.38</td>\n",
              "      <td>122.80</td>\n",
              "      <td>1001.0</td>\n",
              "      <td>0.11840</td>\n",
              "      <td>0.27760</td>\n",
              "      <td>0.3001</td>\n",
              "      <td>0.14710</td>\n",
              "      <td>0.2419</td>\n",
              "      <td>0.07871</td>\n",
              "      <td>1.0950</td>\n",
              "      <td>0.9053</td>\n",
              "      <td>8.589</td>\n",
              "      <td>153.40</td>\n",
              "      <td>0.006399</td>\n",
              "      <td>0.04904</td>\n",
              "      <td>0.05373</td>\n",
              "      <td>0.01587</td>\n",
              "      <td>0.03003</td>\n",
              "      <td>0.006193</td>\n",
              "      <td>25.38</td>\n",
              "      <td>17.33</td>\n",
              "      <td>184.60</td>\n",
              "      <td>2019.0</td>\n",
              "      <td>0.1622</td>\n",
              "      <td>0.6656</td>\n",
              "      <td>0.7119</td>\n",
              "      <td>0.2654</td>\n",
              "      <td>0.4601</td>\n",
              "      <td>0.11890</td>\n",
              "    </tr>\n",
              "    <tr>\n",
              "      <th>842517</th>\n",
              "      <td>M</td>\n",
              "      <td>20.57</td>\n",
              "      <td>17.77</td>\n",
              "      <td>132.90</td>\n",
              "      <td>1326.0</td>\n",
              "      <td>0.08474</td>\n",
              "      <td>0.07864</td>\n",
              "      <td>0.0869</td>\n",
              "      <td>0.07017</td>\n",
              "      <td>0.1812</td>\n",
              "      <td>0.05667</td>\n",
              "      <td>0.5435</td>\n",
              "      <td>0.7339</td>\n",
              "      <td>3.398</td>\n",
              "      <td>74.08</td>\n",
              "      <td>0.005225</td>\n",
              "      <td>0.01308</td>\n",
              "      <td>0.01860</td>\n",
              "      <td>0.01340</td>\n",
              "      <td>0.01389</td>\n",
              "      <td>0.003532</td>\n",
              "      <td>24.99</td>\n",
              "      <td>23.41</td>\n",
              "      <td>158.80</td>\n",
              "      <td>1956.0</td>\n",
              "      <td>0.1238</td>\n",
              "      <td>0.1866</td>\n",
              "      <td>0.2416</td>\n",
              "      <td>0.1860</td>\n",
              "      <td>0.2750</td>\n",
              "      <td>0.08902</td>\n",
              "    </tr>\n",
              "    <tr>\n",
              "      <th>84300903</th>\n",
              "      <td>M</td>\n",
              "      <td>19.69</td>\n",
              "      <td>21.25</td>\n",
              "      <td>130.00</td>\n",
              "      <td>1203.0</td>\n",
              "      <td>0.10960</td>\n",
              "      <td>0.15990</td>\n",
              "      <td>0.1974</td>\n",
              "      <td>0.12790</td>\n",
              "      <td>0.2069</td>\n",
              "      <td>0.05999</td>\n",
              "      <td>0.7456</td>\n",
              "      <td>0.7869</td>\n",
              "      <td>4.585</td>\n",
              "      <td>94.03</td>\n",
              "      <td>0.006150</td>\n",
              "      <td>0.04006</td>\n",
              "      <td>0.03832</td>\n",
              "      <td>0.02058</td>\n",
              "      <td>0.02250</td>\n",
              "      <td>0.004571</td>\n",
              "      <td>23.57</td>\n",
              "      <td>25.53</td>\n",
              "      <td>152.50</td>\n",
              "      <td>1709.0</td>\n",
              "      <td>0.1444</td>\n",
              "      <td>0.4245</td>\n",
              "      <td>0.4504</td>\n",
              "      <td>0.2430</td>\n",
              "      <td>0.3613</td>\n",
              "      <td>0.08758</td>\n",
              "    </tr>\n",
              "    <tr>\n",
              "      <th>84348301</th>\n",
              "      <td>M</td>\n",
              "      <td>11.42</td>\n",
              "      <td>20.38</td>\n",
              "      <td>77.58</td>\n",
              "      <td>386.1</td>\n",
              "      <td>0.14250</td>\n",
              "      <td>0.28390</td>\n",
              "      <td>0.2414</td>\n",
              "      <td>0.10520</td>\n",
              "      <td>0.2597</td>\n",
              "      <td>0.09744</td>\n",
              "      <td>0.4956</td>\n",
              "      <td>1.1560</td>\n",
              "      <td>3.445</td>\n",
              "      <td>27.23</td>\n",
              "      <td>0.009110</td>\n",
              "      <td>0.07458</td>\n",
              "      <td>0.05661</td>\n",
              "      <td>0.01867</td>\n",
              "      <td>0.05963</td>\n",
              "      <td>0.009208</td>\n",
              "      <td>14.91</td>\n",
              "      <td>26.50</td>\n",
              "      <td>98.87</td>\n",
              "      <td>567.7</td>\n",
              "      <td>0.2098</td>\n",
              "      <td>0.8663</td>\n",
              "      <td>0.6869</td>\n",
              "      <td>0.2575</td>\n",
              "      <td>0.6638</td>\n",
              "      <td>0.17300</td>\n",
              "    </tr>\n",
              "    <tr>\n",
              "      <th>84358402</th>\n",
              "      <td>M</td>\n",
              "      <td>20.29</td>\n",
              "      <td>14.34</td>\n",
              "      <td>135.10</td>\n",
              "      <td>1297.0</td>\n",
              "      <td>0.10030</td>\n",
              "      <td>0.13280</td>\n",
              "      <td>0.1980</td>\n",
              "      <td>0.10430</td>\n",
              "      <td>0.1809</td>\n",
              "      <td>0.05883</td>\n",
              "      <td>0.7572</td>\n",
              "      <td>0.7813</td>\n",
              "      <td>5.438</td>\n",
              "      <td>94.44</td>\n",
              "      <td>0.011490</td>\n",
              "      <td>0.02461</td>\n",
              "      <td>0.05688</td>\n",
              "      <td>0.01885</td>\n",
              "      <td>0.01756</td>\n",
              "      <td>0.005115</td>\n",
              "      <td>22.54</td>\n",
              "      <td>16.67</td>\n",
              "      <td>152.20</td>\n",
              "      <td>1575.0</td>\n",
              "      <td>0.1374</td>\n",
              "      <td>0.2050</td>\n",
              "      <td>0.4000</td>\n",
              "      <td>0.1625</td>\n",
              "      <td>0.2364</td>\n",
              "      <td>0.07678</td>\n",
              "    </tr>\n",
              "  </tbody>\n",
              "</table>\n",
              "</div>"
            ],
            "text/plain": [
              "         diagnosis  radius_mean  texture_mean  perimeter_mean  area_mean  \\\n",
              "id                                                                         \n",
              "842302           M        17.99         10.38          122.80     1001.0   \n",
              "842517           M        20.57         17.77          132.90     1326.0   \n",
              "84300903         M        19.69         21.25          130.00     1203.0   \n",
              "84348301         M        11.42         20.38           77.58      386.1   \n",
              "84358402         M        20.29         14.34          135.10     1297.0   \n",
              "\n",
              "          smoothness_mean  compactness_mean  concavity_mean  \\\n",
              "id                                                            \n",
              "842302            0.11840           0.27760          0.3001   \n",
              "842517            0.08474           0.07864          0.0869   \n",
              "84300903          0.10960           0.15990          0.1974   \n",
              "84348301          0.14250           0.28390          0.2414   \n",
              "84358402          0.10030           0.13280          0.1980   \n",
              "\n",
              "          concave points_mean  symmetry_mean  fractal_dimension_mean  \\\n",
              "id                                                                     \n",
              "842302                0.14710         0.2419                 0.07871   \n",
              "842517                0.07017         0.1812                 0.05667   \n",
              "84300903              0.12790         0.2069                 0.05999   \n",
              "84348301              0.10520         0.2597                 0.09744   \n",
              "84358402              0.10430         0.1809                 0.05883   \n",
              "\n",
              "          radius_se  texture_se  perimeter_se  area_se  smoothness_se  \\\n",
              "id                                                                      \n",
              "842302       1.0950      0.9053         8.589   153.40       0.006399   \n",
              "842517       0.5435      0.7339         3.398    74.08       0.005225   \n",
              "84300903     0.7456      0.7869         4.585    94.03       0.006150   \n",
              "84348301     0.4956      1.1560         3.445    27.23       0.009110   \n",
              "84358402     0.7572      0.7813         5.438    94.44       0.011490   \n",
              "\n",
              "          compactness_se  concavity_se  concave points_se  symmetry_se  \\\n",
              "id                                                                       \n",
              "842302           0.04904       0.05373            0.01587      0.03003   \n",
              "842517           0.01308       0.01860            0.01340      0.01389   \n",
              "84300903         0.04006       0.03832            0.02058      0.02250   \n",
              "84348301         0.07458       0.05661            0.01867      0.05963   \n",
              "84358402         0.02461       0.05688            0.01885      0.01756   \n",
              "\n",
              "          fractal_dimension_se  radius_worst  texture_worst  perimeter_worst  \\\n",
              "id                                                                             \n",
              "842302                0.006193         25.38          17.33           184.60   \n",
              "842517                0.003532         24.99          23.41           158.80   \n",
              "84300903              0.004571         23.57          25.53           152.50   \n",
              "84348301              0.009208         14.91          26.50            98.87   \n",
              "84358402              0.005115         22.54          16.67           152.20   \n",
              "\n",
              "          area_worst  smoothness_worst  compactness_worst  concavity_worst  \\\n",
              "id                                                                           \n",
              "842302        2019.0            0.1622             0.6656           0.7119   \n",
              "842517        1956.0            0.1238             0.1866           0.2416   \n",
              "84300903      1709.0            0.1444             0.4245           0.4504   \n",
              "84348301       567.7            0.2098             0.8663           0.6869   \n",
              "84358402      1575.0            0.1374             0.2050           0.4000   \n",
              "\n",
              "          concave points_worst  symmetry_worst  fractal_dimension_worst  \n",
              "id                                                                       \n",
              "842302                  0.2654          0.4601                  0.11890  \n",
              "842517                  0.1860          0.2750                  0.08902  \n",
              "84300903                0.2430          0.3613                  0.08758  \n",
              "84348301                0.2575          0.6638                  0.17300  \n",
              "84358402                0.1625          0.2364                  0.07678  "
            ]
          },
          "metadata": {
            "tags": []
          },
          "execution_count": 3
        }
      ]
    },
    {
      "cell_type": "code",
      "metadata": {
        "id": "tXShzDF7WtCR"
      },
      "source": [
        "dep_var = 'diagnosis'\n",
        "procs = [Categorify, FillMissing, Normalize]\n",
        "train_idx, test_idx = train_test_split(range(len(cancer)), test_size = 0.3)\n",
        "cont_names, cat_names = cont_cat_split(cancer, max_card = 50, dep_var = dep_var)"
      ],
      "execution_count": 12,
      "outputs": []
    },
    {
      "cell_type": "code",
      "metadata": {
        "colab": {
          "base_uri": "https://localhost:8080/"
        },
        "id": "PNxrcWT_BJbW",
        "outputId": "c0c99b9f-5843-4bf4-80c2-bed73b54e7b6"
      },
      "source": [
        "len(train_idx), len(test_idx)"
      ],
      "execution_count": 13,
      "outputs": [
        {
          "output_type": "execute_result",
          "data": {
            "text/plain": [
              "(398, 171)"
            ]
          },
          "metadata": {
            "tags": []
          },
          "execution_count": 13
        }
      ]
    },
    {
      "cell_type": "code",
      "metadata": {
        "colab": {
          "base_uri": "https://localhost:8080/",
          "height": 264
        },
        "id": "bY9A7_7EAkO2",
        "outputId": "b8d475ce-3342-4cc7-fce9-3c361caa956e"
      },
      "source": [
        "train = cancer.iloc[train_idx]\n",
        "test = cancer.iloc[test_idx]\n"
      ],
      "execution_count": 15,
      "outputs": [
        {
          "output_type": "execute_result",
          "data": {
            "text/html": [
              "<div>\n",
              "<style scoped>\n",
              "    .dataframe tbody tr th:only-of-type {\n",
              "        vertical-align: middle;\n",
              "    }\n",
              "\n",
              "    .dataframe tbody tr th {\n",
              "        vertical-align: top;\n",
              "    }\n",
              "\n",
              "    .dataframe thead th {\n",
              "        text-align: right;\n",
              "    }\n",
              "</style>\n",
              "<table border=\"1\" class=\"dataframe\">\n",
              "  <thead>\n",
              "    <tr style=\"text-align: right;\">\n",
              "      <th></th>\n",
              "      <th>diagnosis</th>\n",
              "      <th>radius_mean</th>\n",
              "      <th>texture_mean</th>\n",
              "      <th>perimeter_mean</th>\n",
              "      <th>area_mean</th>\n",
              "      <th>smoothness_mean</th>\n",
              "      <th>compactness_mean</th>\n",
              "      <th>concavity_mean</th>\n",
              "      <th>concave points_mean</th>\n",
              "      <th>symmetry_mean</th>\n",
              "      <th>fractal_dimension_mean</th>\n",
              "      <th>radius_se</th>\n",
              "      <th>texture_se</th>\n",
              "      <th>perimeter_se</th>\n",
              "      <th>area_se</th>\n",
              "      <th>smoothness_se</th>\n",
              "      <th>compactness_se</th>\n",
              "      <th>concavity_se</th>\n",
              "      <th>concave points_se</th>\n",
              "      <th>symmetry_se</th>\n",
              "      <th>fractal_dimension_se</th>\n",
              "      <th>radius_worst</th>\n",
              "      <th>texture_worst</th>\n",
              "      <th>perimeter_worst</th>\n",
              "      <th>area_worst</th>\n",
              "      <th>smoothness_worst</th>\n",
              "      <th>compactness_worst</th>\n",
              "      <th>concavity_worst</th>\n",
              "      <th>concave points_worst</th>\n",
              "      <th>symmetry_worst</th>\n",
              "      <th>fractal_dimension_worst</th>\n",
              "    </tr>\n",
              "    <tr>\n",
              "      <th>id</th>\n",
              "      <th></th>\n",
              "      <th></th>\n",
              "      <th></th>\n",
              "      <th></th>\n",
              "      <th></th>\n",
              "      <th></th>\n",
              "      <th></th>\n",
              "      <th></th>\n",
              "      <th></th>\n",
              "      <th></th>\n",
              "      <th></th>\n",
              "      <th></th>\n",
              "      <th></th>\n",
              "      <th></th>\n",
              "      <th></th>\n",
              "      <th></th>\n",
              "      <th></th>\n",
              "      <th></th>\n",
              "      <th></th>\n",
              "      <th></th>\n",
              "      <th></th>\n",
              "      <th></th>\n",
              "      <th></th>\n",
              "      <th></th>\n",
              "      <th></th>\n",
              "      <th></th>\n",
              "      <th></th>\n",
              "      <th></th>\n",
              "      <th></th>\n",
              "      <th></th>\n",
              "      <th></th>\n",
              "    </tr>\n",
              "  </thead>\n",
              "  <tbody>\n",
              "    <tr>\n",
              "      <th>855138</th>\n",
              "      <td>M</td>\n",
              "      <td>13.48</td>\n",
              "      <td>20.82</td>\n",
              "      <td>88.40</td>\n",
              "      <td>559.2</td>\n",
              "      <td>0.10160</td>\n",
              "      <td>0.12550</td>\n",
              "      <td>0.10630</td>\n",
              "      <td>0.05439</td>\n",
              "      <td>0.1720</td>\n",
              "      <td>0.06419</td>\n",
              "      <td>0.2130</td>\n",
              "      <td>0.5914</td>\n",
              "      <td>1.545</td>\n",
              "      <td>18.52</td>\n",
              "      <td>0.005367</td>\n",
              "      <td>0.02239</td>\n",
              "      <td>0.03049</td>\n",
              "      <td>0.012620</td>\n",
              "      <td>0.01377</td>\n",
              "      <td>0.003187</td>\n",
              "      <td>15.53</td>\n",
              "      <td>26.02</td>\n",
              "      <td>107.30</td>\n",
              "      <td>740.4</td>\n",
              "      <td>0.1610</td>\n",
              "      <td>0.4225</td>\n",
              "      <td>0.50300</td>\n",
              "      <td>0.22580</td>\n",
              "      <td>0.2807</td>\n",
              "      <td>0.10710</td>\n",
              "    </tr>\n",
              "    <tr>\n",
              "      <th>853401</th>\n",
              "      <td>M</td>\n",
              "      <td>18.63</td>\n",
              "      <td>25.11</td>\n",
              "      <td>124.80</td>\n",
              "      <td>1088.0</td>\n",
              "      <td>0.10640</td>\n",
              "      <td>0.18870</td>\n",
              "      <td>0.23190</td>\n",
              "      <td>0.12440</td>\n",
              "      <td>0.2183</td>\n",
              "      <td>0.06197</td>\n",
              "      <td>0.8307</td>\n",
              "      <td>1.4660</td>\n",
              "      <td>5.574</td>\n",
              "      <td>105.00</td>\n",
              "      <td>0.006248</td>\n",
              "      <td>0.03374</td>\n",
              "      <td>0.05196</td>\n",
              "      <td>0.011580</td>\n",
              "      <td>0.02007</td>\n",
              "      <td>0.004560</td>\n",
              "      <td>23.15</td>\n",
              "      <td>34.01</td>\n",
              "      <td>160.50</td>\n",
              "      <td>1670.0</td>\n",
              "      <td>0.1491</td>\n",
              "      <td>0.4257</td>\n",
              "      <td>0.61330</td>\n",
              "      <td>0.18480</td>\n",
              "      <td>0.3444</td>\n",
              "      <td>0.09782</td>\n",
              "    </tr>\n",
              "    <tr>\n",
              "      <th>866714</th>\n",
              "      <td>B</td>\n",
              "      <td>12.19</td>\n",
              "      <td>13.29</td>\n",
              "      <td>79.08</td>\n",
              "      <td>455.8</td>\n",
              "      <td>0.10660</td>\n",
              "      <td>0.09509</td>\n",
              "      <td>0.02855</td>\n",
              "      <td>0.02882</td>\n",
              "      <td>0.1880</td>\n",
              "      <td>0.06471</td>\n",
              "      <td>0.2005</td>\n",
              "      <td>0.8163</td>\n",
              "      <td>1.973</td>\n",
              "      <td>15.24</td>\n",
              "      <td>0.006773</td>\n",
              "      <td>0.02456</td>\n",
              "      <td>0.01018</td>\n",
              "      <td>0.008094</td>\n",
              "      <td>0.02662</td>\n",
              "      <td>0.004143</td>\n",
              "      <td>13.34</td>\n",
              "      <td>17.81</td>\n",
              "      <td>91.38</td>\n",
              "      <td>545.2</td>\n",
              "      <td>0.1427</td>\n",
              "      <td>0.2585</td>\n",
              "      <td>0.09915</td>\n",
              "      <td>0.08187</td>\n",
              "      <td>0.3469</td>\n",
              "      <td>0.09241</td>\n",
              "    </tr>\n",
              "    <tr>\n",
              "      <th>868223</th>\n",
              "      <td>B</td>\n",
              "      <td>11.71</td>\n",
              "      <td>16.67</td>\n",
              "      <td>74.72</td>\n",
              "      <td>423.6</td>\n",
              "      <td>0.10510</td>\n",
              "      <td>0.06095</td>\n",
              "      <td>0.03592</td>\n",
              "      <td>0.02600</td>\n",
              "      <td>0.1339</td>\n",
              "      <td>0.05945</td>\n",
              "      <td>0.4489</td>\n",
              "      <td>2.5080</td>\n",
              "      <td>3.258</td>\n",
              "      <td>34.37</td>\n",
              "      <td>0.006578</td>\n",
              "      <td>0.01380</td>\n",
              "      <td>0.02662</td>\n",
              "      <td>0.013070</td>\n",
              "      <td>0.01359</td>\n",
              "      <td>0.003707</td>\n",
              "      <td>13.33</td>\n",
              "      <td>25.48</td>\n",
              "      <td>86.16</td>\n",
              "      <td>546.7</td>\n",
              "      <td>0.1271</td>\n",
              "      <td>0.1028</td>\n",
              "      <td>0.10460</td>\n",
              "      <td>0.06968</td>\n",
              "      <td>0.1712</td>\n",
              "      <td>0.07343</td>\n",
              "    </tr>\n",
              "    <tr>\n",
              "      <th>857438</th>\n",
              "      <td>M</td>\n",
              "      <td>15.10</td>\n",
              "      <td>22.02</td>\n",
              "      <td>97.26</td>\n",
              "      <td>712.8</td>\n",
              "      <td>0.09056</td>\n",
              "      <td>0.07081</td>\n",
              "      <td>0.05253</td>\n",
              "      <td>0.03334</td>\n",
              "      <td>0.1616</td>\n",
              "      <td>0.05684</td>\n",
              "      <td>0.3105</td>\n",
              "      <td>0.8339</td>\n",
              "      <td>2.097</td>\n",
              "      <td>29.91</td>\n",
              "      <td>0.004675</td>\n",
              "      <td>0.01030</td>\n",
              "      <td>0.01603</td>\n",
              "      <td>0.009222</td>\n",
              "      <td>0.01095</td>\n",
              "      <td>0.001629</td>\n",
              "      <td>18.10</td>\n",
              "      <td>31.69</td>\n",
              "      <td>117.70</td>\n",
              "      <td>1030.0</td>\n",
              "      <td>0.1389</td>\n",
              "      <td>0.2057</td>\n",
              "      <td>0.27120</td>\n",
              "      <td>0.15300</td>\n",
              "      <td>0.2675</td>\n",
              "      <td>0.07873</td>\n",
              "    </tr>\n",
              "  </tbody>\n",
              "</table>\n",
              "</div>"
            ],
            "text/plain": [
              "       diagnosis  radius_mean  texture_mean  perimeter_mean  area_mean  \\\n",
              "id                                                                       \n",
              "855138         M        13.48         20.82           88.40      559.2   \n",
              "853401         M        18.63         25.11          124.80     1088.0   \n",
              "866714         B        12.19         13.29           79.08      455.8   \n",
              "868223         B        11.71         16.67           74.72      423.6   \n",
              "857438         M        15.10         22.02           97.26      712.8   \n",
              "\n",
              "        smoothness_mean  compactness_mean  concavity_mean  \\\n",
              "id                                                          \n",
              "855138          0.10160           0.12550         0.10630   \n",
              "853401          0.10640           0.18870         0.23190   \n",
              "866714          0.10660           0.09509         0.02855   \n",
              "868223          0.10510           0.06095         0.03592   \n",
              "857438          0.09056           0.07081         0.05253   \n",
              "\n",
              "        concave points_mean  symmetry_mean  fractal_dimension_mean  radius_se  \\\n",
              "id                                                                              \n",
              "855138              0.05439         0.1720                 0.06419     0.2130   \n",
              "853401              0.12440         0.2183                 0.06197     0.8307   \n",
              "866714              0.02882         0.1880                 0.06471     0.2005   \n",
              "868223              0.02600         0.1339                 0.05945     0.4489   \n",
              "857438              0.03334         0.1616                 0.05684     0.3105   \n",
              "\n",
              "        texture_se  perimeter_se  area_se  smoothness_se  compactness_se  \\\n",
              "id                                                                         \n",
              "855138      0.5914         1.545    18.52       0.005367         0.02239   \n",
              "853401      1.4660         5.574   105.00       0.006248         0.03374   \n",
              "866714      0.8163         1.973    15.24       0.006773         0.02456   \n",
              "868223      2.5080         3.258    34.37       0.006578         0.01380   \n",
              "857438      0.8339         2.097    29.91       0.004675         0.01030   \n",
              "\n",
              "        concavity_se  concave points_se  symmetry_se  fractal_dimension_se  \\\n",
              "id                                                                           \n",
              "855138       0.03049           0.012620      0.01377              0.003187   \n",
              "853401       0.05196           0.011580      0.02007              0.004560   \n",
              "866714       0.01018           0.008094      0.02662              0.004143   \n",
              "868223       0.02662           0.013070      0.01359              0.003707   \n",
              "857438       0.01603           0.009222      0.01095              0.001629   \n",
              "\n",
              "        radius_worst  texture_worst  perimeter_worst  area_worst  \\\n",
              "id                                                                 \n",
              "855138         15.53          26.02           107.30       740.4   \n",
              "853401         23.15          34.01           160.50      1670.0   \n",
              "866714         13.34          17.81            91.38       545.2   \n",
              "868223         13.33          25.48            86.16       546.7   \n",
              "857438         18.10          31.69           117.70      1030.0   \n",
              "\n",
              "        smoothness_worst  compactness_worst  concavity_worst  \\\n",
              "id                                                             \n",
              "855138            0.1610             0.4225          0.50300   \n",
              "853401            0.1491             0.4257          0.61330   \n",
              "866714            0.1427             0.2585          0.09915   \n",
              "868223            0.1271             0.1028          0.10460   \n",
              "857438            0.1389             0.2057          0.27120   \n",
              "\n",
              "        concave points_worst  symmetry_worst  fractal_dimension_worst  \n",
              "id                                                                     \n",
              "855138               0.22580          0.2807                  0.10710  \n",
              "853401               0.18480          0.3444                  0.09782  \n",
              "866714               0.08187          0.3469                  0.09241  \n",
              "868223               0.06968          0.1712                  0.07343  \n",
              "857438               0.15300          0.2675                  0.07873  "
            ]
          },
          "metadata": {
            "tags": []
          },
          "execution_count": 15
        }
      ]
    },
    {
      "cell_type": "code",
      "metadata": {
        "colab": {
          "base_uri": "https://localhost:8080/"
        },
        "id": "HHfWIukHW18R",
        "outputId": "0c66d411-0782-4fa6-e410-a432235108dd"
      },
      "source": [
        "cont_names, cat_names"
      ],
      "execution_count": 185,
      "outputs": [
        {
          "output_type": "execute_result",
          "data": {
            "text/plain": [
              "(['radius_mean',\n",
              "  'texture_mean',\n",
              "  'perimeter_mean',\n",
              "  'area_mean',\n",
              "  'smoothness_mean',\n",
              "  'compactness_mean',\n",
              "  'concavity_mean',\n",
              "  'concave points_mean',\n",
              "  'symmetry_mean',\n",
              "  'fractal_dimension_mean',\n",
              "  'radius_se',\n",
              "  'texture_se',\n",
              "  'perimeter_se',\n",
              "  'area_se',\n",
              "  'smoothness_se',\n",
              "  'compactness_se',\n",
              "  'concavity_se',\n",
              "  'concave points_se',\n",
              "  'symmetry_se',\n",
              "  'fractal_dimension_se',\n",
              "  'radius_worst',\n",
              "  'texture_worst',\n",
              "  'perimeter_worst',\n",
              "  'area_worst',\n",
              "  'smoothness_worst',\n",
              "  'compactness_worst',\n",
              "  'concavity_worst',\n",
              "  'concave points_worst',\n",
              "  'symmetry_worst',\n",
              "  'fractal_dimension_worst'],\n",
              " [])"
            ]
          },
          "metadata": {
            "tags": []
          },
          "execution_count": 185
        }
      ]
    },
    {
      "cell_type": "code",
      "metadata": {
        "id": "ROexiUw0W3it"
      },
      "source": [
        "dls = TabularDataLoaders.from_df(train, y_names='diagnosis', cat_names= cat_names ,cont_names=cont_names, procs= procs, bs=64)"
      ],
      "execution_count": 16,
      "outputs": []
    },
    {
      "cell_type": "code",
      "metadata": {
        "colab": {
          "base_uri": "https://localhost:8080/",
          "height": 551
        },
        "id": "rN5N9g0mX8E0",
        "outputId": "54f2fa14-c350-42e1-bb15-4edc4e595f38"
      },
      "source": [
        "dls.show_batch()"
      ],
      "execution_count": 17,
      "outputs": [
        {
          "output_type": "display_data",
          "data": {
            "text/html": [
              "<table border=\"1\" class=\"dataframe\">\n",
              "  <thead>\n",
              "    <tr style=\"text-align: right;\">\n",
              "      <th></th>\n",
              "      <th>radius_mean</th>\n",
              "      <th>texture_mean</th>\n",
              "      <th>perimeter_mean</th>\n",
              "      <th>area_mean</th>\n",
              "      <th>smoothness_mean</th>\n",
              "      <th>compactness_mean</th>\n",
              "      <th>concavity_mean</th>\n",
              "      <th>concave points_mean</th>\n",
              "      <th>symmetry_mean</th>\n",
              "      <th>fractal_dimension_mean</th>\n",
              "      <th>radius_se</th>\n",
              "      <th>texture_se</th>\n",
              "      <th>perimeter_se</th>\n",
              "      <th>area_se</th>\n",
              "      <th>smoothness_se</th>\n",
              "      <th>compactness_se</th>\n",
              "      <th>concavity_se</th>\n",
              "      <th>concave points_se</th>\n",
              "      <th>symmetry_se</th>\n",
              "      <th>fractal_dimension_se</th>\n",
              "      <th>radius_worst</th>\n",
              "      <th>texture_worst</th>\n",
              "      <th>perimeter_worst</th>\n",
              "      <th>area_worst</th>\n",
              "      <th>smoothness_worst</th>\n",
              "      <th>compactness_worst</th>\n",
              "      <th>concavity_worst</th>\n",
              "      <th>concave points_worst</th>\n",
              "      <th>symmetry_worst</th>\n",
              "      <th>fractal_dimension_worst</th>\n",
              "      <th>diagnosis</th>\n",
              "    </tr>\n",
              "  </thead>\n",
              "  <tbody>\n",
              "    <tr>\n",
              "      <th>0</th>\n",
              "      <td>14.810000</td>\n",
              "      <td>14.700000</td>\n",
              "      <td>94.660004</td>\n",
              "      <td>680.700013</td>\n",
              "      <td>0.08472</td>\n",
              "      <td>0.05016</td>\n",
              "      <td>3.416000e-02</td>\n",
              "      <td>2.541000e-02</td>\n",
              "      <td>0.1659</td>\n",
              "      <td>0.05348</td>\n",
              "      <td>0.2182</td>\n",
              "      <td>0.6232</td>\n",
              "      <td>1.677000</td>\n",
              "      <td>20.719999</td>\n",
              "      <td>0.006708</td>\n",
              "      <td>0.01197</td>\n",
              "      <td>1.482000e-02</td>\n",
              "      <td>1.056000e-02</td>\n",
              "      <td>0.01580</td>\n",
              "      <td>0.001779</td>\n",
              "      <td>15.610000</td>\n",
              "      <td>17.580000</td>\n",
              "      <td>101.699997</td>\n",
              "      <td>760.200014</td>\n",
              "      <td>0.11390</td>\n",
              "      <td>0.10110</td>\n",
              "      <td>1.101000e-01</td>\n",
              "      <td>7.955000e-02</td>\n",
              "      <td>0.2334</td>\n",
              "      <td>0.06142</td>\n",
              "      <td>B</td>\n",
              "    </tr>\n",
              "    <tr>\n",
              "      <th>1</th>\n",
              "      <td>14.440000</td>\n",
              "      <td>15.180000</td>\n",
              "      <td>93.970001</td>\n",
              "      <td>640.099977</td>\n",
              "      <td>0.09970</td>\n",
              "      <td>0.10210</td>\n",
              "      <td>8.487000e-02</td>\n",
              "      <td>5.532000e-02</td>\n",
              "      <td>0.1724</td>\n",
              "      <td>0.06081</td>\n",
              "      <td>0.2406</td>\n",
              "      <td>0.7394</td>\n",
              "      <td>2.120000</td>\n",
              "      <td>21.200001</td>\n",
              "      <td>0.005706</td>\n",
              "      <td>0.02297</td>\n",
              "      <td>3.114000e-02</td>\n",
              "      <td>1.493000e-02</td>\n",
              "      <td>0.01454</td>\n",
              "      <td>0.002528</td>\n",
              "      <td>15.850000</td>\n",
              "      <td>19.850000</td>\n",
              "      <td>108.599998</td>\n",
              "      <td>766.900024</td>\n",
              "      <td>0.13160</td>\n",
              "      <td>0.27350</td>\n",
              "      <td>3.103000e-01</td>\n",
              "      <td>1.599000e-01</td>\n",
              "      <td>0.2691</td>\n",
              "      <td>0.07683</td>\n",
              "      <td>B</td>\n",
              "    </tr>\n",
              "    <tr>\n",
              "      <th>2</th>\n",
              "      <td>7.760000</td>\n",
              "      <td>24.540001</td>\n",
              "      <td>47.919998</td>\n",
              "      <td>181.000014</td>\n",
              "      <td>0.05263</td>\n",
              "      <td>0.04362</td>\n",
              "      <td>-3.698972e-09</td>\n",
              "      <td>-1.226902e-09</td>\n",
              "      <td>0.1587</td>\n",
              "      <td>0.05884</td>\n",
              "      <td>0.3857</td>\n",
              "      <td>1.4280</td>\n",
              "      <td>2.548000</td>\n",
              "      <td>19.150000</td>\n",
              "      <td>0.007189</td>\n",
              "      <td>0.00466</td>\n",
              "      <td>9.248786e-10</td>\n",
              "      <td>-1.633556e-10</td>\n",
              "      <td>0.02676</td>\n",
              "      <td>0.002783</td>\n",
              "      <td>9.456000</td>\n",
              "      <td>30.370001</td>\n",
              "      <td>59.160002</td>\n",
              "      <td>268.600020</td>\n",
              "      <td>0.08996</td>\n",
              "      <td>0.06444</td>\n",
              "      <td>8.994718e-09</td>\n",
              "      <td>-2.735622e-09</td>\n",
              "      <td>0.2871</td>\n",
              "      <td>0.07039</td>\n",
              "      <td>B</td>\n",
              "    </tr>\n",
              "    <tr>\n",
              "      <th>3</th>\n",
              "      <td>13.050000</td>\n",
              "      <td>18.590000</td>\n",
              "      <td>85.089996</td>\n",
              "      <td>512.000004</td>\n",
              "      <td>0.10820</td>\n",
              "      <td>0.13040</td>\n",
              "      <td>9.603000e-02</td>\n",
              "      <td>5.603000e-02</td>\n",
              "      <td>0.2035</td>\n",
              "      <td>0.06501</td>\n",
              "      <td>0.3106</td>\n",
              "      <td>1.5100</td>\n",
              "      <td>2.590000</td>\n",
              "      <td>21.570000</td>\n",
              "      <td>0.007807</td>\n",
              "      <td>0.03932</td>\n",
              "      <td>5.112000e-02</td>\n",
              "      <td>1.876000e-02</td>\n",
              "      <td>0.02860</td>\n",
              "      <td>0.005715</td>\n",
              "      <td>14.190000</td>\n",
              "      <td>24.850000</td>\n",
              "      <td>94.220001</td>\n",
              "      <td>591.200000</td>\n",
              "      <td>0.13430</td>\n",
              "      <td>0.26580</td>\n",
              "      <td>2.573000e-01</td>\n",
              "      <td>1.258000e-01</td>\n",
              "      <td>0.3113</td>\n",
              "      <td>0.08317</td>\n",
              "      <td>B</td>\n",
              "    </tr>\n",
              "    <tr>\n",
              "      <th>4</th>\n",
              "      <td>12.560000</td>\n",
              "      <td>19.070000</td>\n",
              "      <td>81.919998</td>\n",
              "      <td>485.799979</td>\n",
              "      <td>0.08760</td>\n",
              "      <td>0.10380</td>\n",
              "      <td>1.030000e-01</td>\n",
              "      <td>4.391000e-02</td>\n",
              "      <td>0.1533</td>\n",
              "      <td>0.06184</td>\n",
              "      <td>0.3602</td>\n",
              "      <td>1.4780</td>\n",
              "      <td>3.212000</td>\n",
              "      <td>27.490000</td>\n",
              "      <td>0.009853</td>\n",
              "      <td>0.04235</td>\n",
              "      <td>6.271000e-02</td>\n",
              "      <td>1.966000e-02</td>\n",
              "      <td>0.02639</td>\n",
              "      <td>0.004205</td>\n",
              "      <td>13.370000</td>\n",
              "      <td>22.430000</td>\n",
              "      <td>89.019997</td>\n",
              "      <td>547.400008</td>\n",
              "      <td>0.10960</td>\n",
              "      <td>0.20020</td>\n",
              "      <td>2.388000e-01</td>\n",
              "      <td>9.265000e-02</td>\n",
              "      <td>0.2121</td>\n",
              "      <td>0.07188</td>\n",
              "      <td>B</td>\n",
              "    </tr>\n",
              "    <tr>\n",
              "      <th>5</th>\n",
              "      <td>12.620000</td>\n",
              "      <td>23.969999</td>\n",
              "      <td>81.349999</td>\n",
              "      <td>496.399994</td>\n",
              "      <td>0.07903</td>\n",
              "      <td>0.07529</td>\n",
              "      <td>5.438000e-02</td>\n",
              "      <td>2.036000e-02</td>\n",
              "      <td>0.1514</td>\n",
              "      <td>0.06019</td>\n",
              "      <td>0.2449</td>\n",
              "      <td>1.0660</td>\n",
              "      <td>1.445000</td>\n",
              "      <td>18.510000</td>\n",
              "      <td>0.005169</td>\n",
              "      <td>0.02294</td>\n",
              "      <td>3.016000e-02</td>\n",
              "      <td>8.691000e-03</td>\n",
              "      <td>0.01365</td>\n",
              "      <td>0.003407</td>\n",
              "      <td>14.200000</td>\n",
              "      <td>31.310000</td>\n",
              "      <td>90.669999</td>\n",
              "      <td>623.999999</td>\n",
              "      <td>0.12270</td>\n",
              "      <td>0.34540</td>\n",
              "      <td>3.911000e-01</td>\n",
              "      <td>1.180000e-01</td>\n",
              "      <td>0.2826</td>\n",
              "      <td>0.09585</td>\n",
              "      <td>B</td>\n",
              "    </tr>\n",
              "    <tr>\n",
              "      <th>6</th>\n",
              "      <td>28.110001</td>\n",
              "      <td>18.469999</td>\n",
              "      <td>188.500002</td>\n",
              "      <td>2499.000047</td>\n",
              "      <td>0.11420</td>\n",
              "      <td>0.15160</td>\n",
              "      <td>3.201000e-01</td>\n",
              "      <td>1.595000e-01</td>\n",
              "      <td>0.1648</td>\n",
              "      <td>0.05525</td>\n",
              "      <td>2.8730</td>\n",
              "      <td>1.4760</td>\n",
              "      <td>21.979999</td>\n",
              "      <td>525.599968</td>\n",
              "      <td>0.013450</td>\n",
              "      <td>0.02772</td>\n",
              "      <td>6.389000e-02</td>\n",
              "      <td>1.407000e-02</td>\n",
              "      <td>0.04783</td>\n",
              "      <td>0.004476</td>\n",
              "      <td>28.110001</td>\n",
              "      <td>18.469999</td>\n",
              "      <td>188.500001</td>\n",
              "      <td>2498.999990</td>\n",
              "      <td>0.11420</td>\n",
              "      <td>0.15160</td>\n",
              "      <td>3.201000e-01</td>\n",
              "      <td>1.595000e-01</td>\n",
              "      <td>0.1648</td>\n",
              "      <td>0.05525</td>\n",
              "      <td>M</td>\n",
              "    </tr>\n",
              "    <tr>\n",
              "      <th>7</th>\n",
              "      <td>20.549999</td>\n",
              "      <td>20.860001</td>\n",
              "      <td>137.800002</td>\n",
              "      <td>1307.999989</td>\n",
              "      <td>0.10460</td>\n",
              "      <td>0.17390</td>\n",
              "      <td>2.085000e-01</td>\n",
              "      <td>1.322000e-01</td>\n",
              "      <td>0.2127</td>\n",
              "      <td>0.06251</td>\n",
              "      <td>0.6986</td>\n",
              "      <td>0.9901</td>\n",
              "      <td>4.706000</td>\n",
              "      <td>87.780000</td>\n",
              "      <td>0.004578</td>\n",
              "      <td>0.02616</td>\n",
              "      <td>4.005000e-02</td>\n",
              "      <td>1.421000e-02</td>\n",
              "      <td>0.01948</td>\n",
              "      <td>0.002689</td>\n",
              "      <td>24.299999</td>\n",
              "      <td>25.480000</td>\n",
              "      <td>160.199997</td>\n",
              "      <td>1808.999982</td>\n",
              "      <td>0.12680</td>\n",
              "      <td>0.31350</td>\n",
              "      <td>4.433000e-01</td>\n",
              "      <td>2.148000e-01</td>\n",
              "      <td>0.3077</td>\n",
              "      <td>0.07569</td>\n",
              "      <td>M</td>\n",
              "    </tr>\n",
              "    <tr>\n",
              "      <th>8</th>\n",
              "      <td>17.190001</td>\n",
              "      <td>22.070000</td>\n",
              "      <td>111.599999</td>\n",
              "      <td>928.299999</td>\n",
              "      <td>0.09726</td>\n",
              "      <td>0.08995</td>\n",
              "      <td>9.061000e-02</td>\n",
              "      <td>6.527000e-02</td>\n",
              "      <td>0.1867</td>\n",
              "      <td>0.05580</td>\n",
              "      <td>0.4203</td>\n",
              "      <td>0.7383</td>\n",
              "      <td>2.819000</td>\n",
              "      <td>45.419998</td>\n",
              "      <td>0.004493</td>\n",
              "      <td>0.01206</td>\n",
              "      <td>2.048000e-02</td>\n",
              "      <td>9.875000e-03</td>\n",
              "      <td>0.01144</td>\n",
              "      <td>0.001575</td>\n",
              "      <td>21.580000</td>\n",
              "      <td>29.330000</td>\n",
              "      <td>140.500000</td>\n",
              "      <td>1435.999998</td>\n",
              "      <td>0.15580</td>\n",
              "      <td>0.25670</td>\n",
              "      <td>3.889000e-01</td>\n",
              "      <td>1.984000e-01</td>\n",
              "      <td>0.3216</td>\n",
              "      <td>0.07570</td>\n",
              "      <td>M</td>\n",
              "    </tr>\n",
              "    <tr>\n",
              "      <th>9</th>\n",
              "      <td>23.270001</td>\n",
              "      <td>22.040001</td>\n",
              "      <td>152.100005</td>\n",
              "      <td>1686.000004</td>\n",
              "      <td>0.08439</td>\n",
              "      <td>0.11450</td>\n",
              "      <td>1.324000e-01</td>\n",
              "      <td>9.702000e-02</td>\n",
              "      <td>0.1801</td>\n",
              "      <td>0.05553</td>\n",
              "      <td>0.6642</td>\n",
              "      <td>0.8561</td>\n",
              "      <td>4.603000</td>\n",
              "      <td>97.849998</td>\n",
              "      <td>0.004910</td>\n",
              "      <td>0.02544</td>\n",
              "      <td>2.822000e-02</td>\n",
              "      <td>1.623000e-02</td>\n",
              "      <td>0.01956</td>\n",
              "      <td>0.003740</td>\n",
              "      <td>28.010001</td>\n",
              "      <td>28.219999</td>\n",
              "      <td>184.199998</td>\n",
              "      <td>2403.000005</td>\n",
              "      <td>0.12280</td>\n",
              "      <td>0.35830</td>\n",
              "      <td>3.948000e-01</td>\n",
              "      <td>2.346000e-01</td>\n",
              "      <td>0.3589</td>\n",
              "      <td>0.09187</td>\n",
              "      <td>M</td>\n",
              "    </tr>\n",
              "  </tbody>\n",
              "</table>"
            ],
            "text/plain": [
              "<IPython.core.display.HTML object>"
            ]
          },
          "metadata": {
            "tags": []
          }
        }
      ]
    },
    {
      "cell_type": "markdown",
      "metadata": {
        "id": "k3hnEK5IcFYu"
      },
      "source": [
        ""
      ]
    },
    {
      "cell_type": "code",
      "metadata": {
        "id": "FnoyStnzXFfN"
      },
      "source": [
        "learn = tabular_learner(dls, metrics=accuracy)"
      ],
      "execution_count": 18,
      "outputs": []
    },
    {
      "cell_type": "code",
      "metadata": {
        "colab": {
          "base_uri": "https://localhost:8080/",
          "height": 301
        },
        "id": "ExsMqA-lXT_k",
        "outputId": "327d8acb-e498-47c0-9591-0a934c49ebd6"
      },
      "source": [
        "learn.lr_find()"
      ],
      "execution_count": 19,
      "outputs": [
        {
          "output_type": "display_data",
          "data": {
            "text/html": [
              ""
            ],
            "text/plain": [
              "<IPython.core.display.HTML object>"
            ]
          },
          "metadata": {
            "tags": []
          }
        },
        {
          "output_type": "execute_result",
          "data": {
            "text/plain": [
              "SuggestedLRs(lr_min=0.05248074531555176, lr_steep=0.0005754399462603033)"
            ]
          },
          "metadata": {
            "tags": []
          },
          "execution_count": 19
        },
        {
          "output_type": "display_data",
          "data": {
            "image/png": "[encoded data removed]",
            "text/plain": [
              "<Figure size 432x288 with 1 Axes>"
            ]
          },
          "metadata": {
            "tags": [],
            "needs_background": "light"
          }
        }
      ]
    },
    {
      "cell_type": "code",
      "metadata": {
        "colab": {
          "base_uri": "https://localhost:8080/",
          "height": 107
        },
        "id": "TtDkjXhKX3XV",
        "outputId": "8dcc5f8a-d9a9-4cd7-d22c-ad57d8ab1a48"
      },
      "source": [
        "learn.fit_one_cycle(2, 1e-3)"
      ],
      "execution_count": 20,
      "outputs": [
        {
          "output_type": "display_data",
          "data": {
            "text/html": [
              "<table border=\"1\" class=\"dataframe\">\n",
              "  <thead>\n",
              "    <tr style=\"text-align: left;\">\n",
              "      <th>epoch</th>\n",
              "      <th>train_loss</th>\n",
              "      <th>valid_loss</th>\n",
              "      <th>accuracy</th>\n",
              "      <th>time</th>\n",
              "    </tr>\n",
              "  </thead>\n",
              "  <tbody>\n",
              "    <tr>\n",
              "      <td>0</td>\n",
              "      <td>0.490062</td>\n",
              "      <td>0.513048</td>\n",
              "      <td>0.974684</td>\n",
              "      <td>00:00</td>\n",
              "    </tr>\n",
              "    <tr>\n",
              "      <td>1</td>\n",
              "      <td>0.345741</td>\n",
              "      <td>0.402339</td>\n",
              "      <td>0.962025</td>\n",
              "      <td>00:00</td>\n",
              "    </tr>\n",
              "  </tbody>\n",
              "</table>"
            ],
            "text/plain": [
              "<IPython.core.display.HTML object>"
            ]
          },
          "metadata": {
            "tags": []
          }
        }
      ]
    },
    {
      "cell_type": "code",
      "metadata": {
        "colab": {
          "base_uri": "https://localhost:8080/",
          "height": 16
        },
        "id": "8sW2leS7YPBJ",
        "outputId": "b1c5a7eb-fb84-455b-a683-fc3a182270ac"
      },
      "source": [
        "row, clas, probs = learn.predict(cancer.iloc[4])"
      ],
      "execution_count": 21,
      "outputs": [
        {
          "output_type": "display_data",
          "data": {
            "text/html": [
              ""
            ],
            "text/plain": [
              "<IPython.core.display.HTML object>"
            ]
          },
          "metadata": {
            "tags": []
          }
        }
      ]
    },
    {
      "cell_type": "code",
      "metadata": {
        "colab": {
          "base_uri": "https://localhost:8080/"
        },
        "id": "1iGRV-7hYage",
        "outputId": "c9f6bf9c-86f1-41c6-c4e3-adaf76f3cec2"
      },
      "source": [
        "row['diagnosis'][0]"
      ],
      "execution_count": 22,
      "outputs": [
        {
          "output_type": "execute_result",
          "data": {
            "text/plain": [
              "1.0"
            ]
          },
          "metadata": {
            "tags": []
          },
          "execution_count": 22
        }
      ]
    },
    {
      "cell_type": "code",
      "metadata": {
        "id": "UJhwJpwAYbQg"
      },
      "source": [
        "\n",
        "import seaborn as sn\n",
        "import matplotlib.pyplot as plt\n",
        "\n",
        "pre_arr = []\n",
        "ans_arr = []\n",
        "\n",
        "def check_model(data, target_col):\n",
        "\n",
        "  size = len(data)\n",
        "\n",
        "  for k in range(size):\n",
        "    row, clas, probs = learn.predict(data.iloc[k])\n",
        "    res = row[target_col][0]\n",
        "    ans = data[target_col].values[k]\n",
        "    if(ans == 'M'):\n",
        "      ans = 1.0\n",
        "    elif(ans == 'B'):\n",
        "      ans = 0.0\n",
        "\n",
        "    pre_arr.append(res)\n",
        "    ans_arr.append(ans)\n",
        "    \n",
        "  # create confusion matrix from result\n",
        "  res_data = list(zip(ans_arr, pre_arr))\n",
        "  res_table = pd.DataFrame(res_data, columns = ['actual', 'predict'])\n",
        "  confusion_matrix = pd.crosstab(res_table['actual'], res_table['predict'], rownames=['Actual'], colnames=['Predicted'])\n",
        "  sn.heatmap(confusion_matrix, annot=True)\n",
        "  plt.show()\n",
        "  return confusion_matrix"
      ],
      "execution_count": 24,
      "outputs": []
    },
    {
      "cell_type": "code",
      "metadata": {
        "colab": {
          "base_uri": "https://localhost:8080/",
          "height": 400
        },
        "id": "4bdV6HyhiyDn",
        "outputId": "f998bfb7-d9f0-4dab-e122-cea9c095e26c"
      },
      "source": [
        "check_model(test, 'diagnosis')"
      ],
      "execution_count": 27,
      "outputs": [
        {
          "output_type": "display_data",
          "data": {
            "text/html": [
              ""
            ],
            "text/plain": [
              "<IPython.core.display.HTML object>"
            ]
          },
          "metadata": {
            "tags": []
          }
        },
        {
          "output_type": "display_data",
          "data": {
            "text/html": [
              ""
            ],
            "text/plain": [
              "<IPython.core.display.HTML object>"
            ]
          },
          "metadata": {
            "tags": []
          }
        },
        {
          "output_type": "display_data",
          "data": {
            "text/html": [
              ""
            ],
            "text/plain": [
              "<IPython.core.display.HTML object>"
            ]
          },
          "metadata": {
            "tags": []
          }
        },
        {
          "output_type": "display_data",
          "data": {
            "text/html": [
              ""
            ],
            "text/plain": [
              "<IPython.core.display.HTML object>"
            ]
          },
          "metadata": {
            "tags": []
          }
        },
        {
          "output_type": "display_data",
          "data": {
            "text/html": [
              ""
            ],
            "text/plain": [
              "<IPython.core.display.HTML object>"
            ]
          },
          "metadata": {
            "tags": []
          }
        },
        {
          "output_type": "display_data",
          "data": {
            "text/html": [
              ""
            ],
            "text/plain": [
              "<IPython.core.display.HTML object>"
            ]
          },
          "metadata": {
            "tags": []
          }
        },
        {
          "output_type": "display_data",
          "data": {
            "text/html": [
              ""
            ],
            "text/plain": [
              "<IPython.core.display.HTML object>"
            ]
          },
          "metadata": {
            "tags": []
          }
        },
        {
          "output_type": "display_data",
          "data": {
            "text/html": [
              ""
            ],
            "text/plain": [
              "<IPython.core.display.HTML object>"
            ]
          },
          "metadata": {
            "tags": []
          }
        },
        {
          "output_type": "display_data",
          "data": {
            "text/html": [
              ""
            ],
            "text/plain": [
              "<IPython.core.display.HTML object>"
            ]
          },
          "metadata": {
            "tags": []
          }
        },
        {
          "output_type": "display_data",
          "data": {
            "image/png": "[encoded data removed]",
            "text/plain": [
              "<Figure size 432x288 with 2 Axes>"
            ]
          },
          "metadata": {
            "tags": [],
            "needs_background": "light"
          }
        },
        {
          "output_type": "execute_result",
          "data": {
            "text/html": [
              "<div>\n",
              "<style scoped>\n",
              "    .dataframe tbody tr th:only-of-type {\n",
              "        vertical-align: middle;\n",
              "    }\n",
              "\n",
              "    .dataframe tbody tr th {\n",
              "        vertical-align: top;\n",
              "    }\n",
              "\n",
              "    .dataframe thead th {\n",
              "        text-align: right;\n",
              "    }\n",
              "</style>\n",
              "<table border=\"1\" class=\"dataframe\">\n",
              "  <thead>\n",
              "    <tr style=\"text-align: right;\">\n",
              "      <th>Predicted</th>\n",
              "      <th>0.0</th>\n",
              "      <th>1.0</th>\n",
              "    </tr>\n",
              "    <tr>\n",
              "      <th>Actual</th>\n",
              "      <th></th>\n",
              "      <th></th>\n",
              "    </tr>\n",
              "  </thead>\n",
              "  <tbody>\n",
              "    <tr>\n",
              "      <th>0.0</th>\n",
              "      <td>318</td>\n",
              "      <td>15</td>\n",
              "    </tr>\n",
              "    <tr>\n",
              "      <th>1.0</th>\n",
              "      <td>15</td>\n",
              "      <td>165</td>\n",
              "    </tr>\n",
              "  </tbody>\n",
              "</table>\n",
              "</div>"
            ],
            "text/plain": [
              "Predicted  0.0  1.0\n",
              "Actual             \n",
              "0.0        318   15\n",
              "1.0         15  165"
            ]
          },
          "metadata": {
            "tags": []
          },
          "execution_count": 27
        }
      ]
    }
  ]
}