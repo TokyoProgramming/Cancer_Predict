{
  "nbformat": 4,
  "nbformat_minor": 0,
  "metadata": {
    "colab": {
      "name": "cancer_predict.ipynb",
      "provenance": [],
      "authorship_tag": "ABX9TyOkfoRLJm29+BgDmpV/MkC9",
      "include_colab_link": true
    },
    "kernelspec": {
      "name": "python3",
      "display_name": "Python 3"
    },
    "language_info": {
      "name": "python"
    },
    "accelerator": "GPU"
  },
  "cells": [
    {
      "cell_type": "markdown",
      "metadata": {
        "id": "view-in-github",
        "colab_type": "text"
      },
      "source": [
        "<a href=\"https://colab.research.google.com/github/TokyoProgramming/Cancer_Predict/blob/main/cancer_predict.ipynb\" target=\"_parent\"><img src=\"https://colab.research.google.com/assets/colab-badge.svg\" alt=\"Open In Colab\"/></a>"
      ]
    },
    {
      "cell_type": "code",
      "metadata": {
        "colab": {
          "base_uri": "https://localhost:8080/"
        },
        "id": "zIMTl1aqAW5F",
        "outputId": "ae1a767d-8759-4b49-e835-e990cbd84b61"
      },
      "source": [
        "!pip install -Uqq fastbook\n",
        "import fastbook\n",
        "fastbook.setup_book()\n",
        "from fastai.text.all import *\n",
        "from fastai.text.all import *\n",
        "%reload_ext autoreload\n",
        "%autoreload 2\n",
        "%matplotlib inline\n",
        "import pandas as pd\n",
        "import numpy as np\n",
        "\n",
        "from google.colab import drive \n",
        "drive.mount('/content/gdrive')"
      ],
      "execution_count": 1,
      "outputs": [
        {
          "output_type": "stream",
          "text": [
            "\u001b[?25l\r\u001b[K     |▌                               | 10kB 18.1MB/s eta 0:00:01\r\u001b[K     |█                               | 20kB 12.2MB/s eta 0:00:01\r\u001b[K     |█▍                              | 30kB 8.9MB/s eta 0:00:01\r\u001b[K     |█▉                              | 40kB 8.0MB/s eta 0:00:01\r\u001b[K     |██▎                             | 51kB 4.3MB/s eta 0:00:01\r\u001b[K     |██▊                             | 61kB 5.0MB/s eta 0:00:01\r\u001b[K     |███▏                            | 71kB 5.4MB/s eta 0:00:01\r\u001b[K     |███▋                            | 81kB 5.5MB/s eta 0:00:01\r\u001b[K     |████                            | 92kB 5.3MB/s eta 0:00:01\r\u001b[K     |████▌                           | 102kB 4.3MB/s eta 0:00:01\r\u001b[K     |█████                           | 112kB 4.3MB/s eta 0:00:01\r\u001b[K     |█████▌                          | 122kB 4.3MB/s eta 0:00:01\r\u001b[K     |██████                          | 133kB 4.3MB/s eta 0:00:01\r\u001b[K     |██████▍                         | 143kB 4.3MB/s eta 0:00:01\r\u001b[K     |██████▉                         | 153kB 4.3MB/s eta 0:00:01\r\u001b[K     |███████▎                        | 163kB 4.3MB/s eta 0:00:01\r\u001b[K     |███████▊                        | 174kB 4.3MB/s eta 0:00:01\r\u001b[K     |████████▏                       | 184kB 4.3MB/s eta 0:00:01\r\u001b[K     |████████▋                       | 194kB 4.3MB/s eta 0:00:01\r\u001b[K     |█████████                       | 204kB 4.3MB/s eta 0:00:01\r\u001b[K     |█████████▋                      | 215kB 4.3MB/s eta 0:00:01\r\u001b[K     |██████████                      | 225kB 4.3MB/s eta 0:00:01\r\u001b[K     |██████████▌                     | 235kB 4.3MB/s eta 0:00:01\r\u001b[K     |███████████                     | 245kB 4.3MB/s eta 0:00:01\r\u001b[K     |███████████▍                    | 256kB 4.3MB/s eta 0:00:01\r\u001b[K     |███████████▉                    | 266kB 4.3MB/s eta 0:00:01\r\u001b[K     |████████████▎                   | 276kB 4.3MB/s eta 0:00:01\r\u001b[K     |████████████▊                   | 286kB 4.3MB/s eta 0:00:01\r\u001b[K     |█████████████▏                  | 296kB 4.3MB/s eta 0:00:01\r\u001b[K     |█████████████▋                  | 307kB 4.3MB/s eta 0:00:01\r\u001b[K     |██████████████                  | 317kB 4.3MB/s eta 0:00:01\r\u001b[K     |██████████████▋                 | 327kB 4.3MB/s eta 0:00:01\r\u001b[K     |███████████████                 | 337kB 4.3MB/s eta 0:00:01\r\u001b[K     |███████████████▌                | 348kB 4.3MB/s eta 0:00:01\r\u001b[K     |████████████████                | 358kB 4.3MB/s eta 0:00:01\r\u001b[K     |████████████████▍               | 368kB 4.3MB/s eta 0:00:01\r\u001b[K     |████████████████▉               | 378kB 4.3MB/s eta 0:00:01\r\u001b[K     |█████████████████▎              | 389kB 4.3MB/s eta 0:00:01\r\u001b[K     |█████████████████▊              | 399kB 4.3MB/s eta 0:00:01\r\u001b[K     |██████████████████▏             | 409kB 4.3MB/s eta 0:00:01\r\u001b[K     |██████████████████▋             | 419kB 4.3MB/s eta 0:00:01\r\u001b[K     |███████████████████▏            | 430kB 4.3MB/s eta 0:00:01\r\u001b[K     |███████████████████▋            | 440kB 4.3MB/s eta 0:00:01\r\u001b[K     |████████████████████            | 450kB 4.3MB/s eta 0:00:01\r\u001b[K     |████████████████████▌           | 460kB 4.3MB/s eta 0:00:01\r\u001b[K     |█████████████████████           | 471kB 4.3MB/s eta 0:00:01\r\u001b[K     |█████████████████████▍          | 481kB 4.3MB/s eta 0:00:01\r\u001b[K     |█████████████████████▉          | 491kB 4.3MB/s eta 0:00:01\r\u001b[K     |██████████████████████▎         | 501kB 4.3MB/s eta 0:00:01\r\u001b[K     |██████████████████████▊         | 512kB 4.3MB/s eta 0:00:01\r\u001b[K     |███████████████████████▏        | 522kB 4.3MB/s eta 0:00:01\r\u001b[K     |███████████████████████▋        | 532kB 4.3MB/s eta 0:00:01\r\u001b[K     |████████████████████████▏       | 542kB 4.3MB/s eta 0:00:01\r\u001b[K     |████████████████████████▋       | 552kB 4.3MB/s eta 0:00:01\r\u001b[K     |█████████████████████████       | 563kB 4.3MB/s eta 0:00:01\r\u001b[K     |█████████████████████████▌      | 573kB 4.3MB/s eta 0:00:01\r\u001b[K     |██████████████████████████      | 583kB 4.3MB/s eta 0:00:01\r\u001b[K     |██████████████████████████▍     | 593kB 4.3MB/s eta 0:00:01\r\u001b[K     |██████████████████████████▉     | 604kB 4.3MB/s eta 0:00:01\r\u001b[K     |███████████████████████████▎    | 614kB 4.3MB/s eta 0:00:01\r\u001b[K     |███████████████████████████▊    | 624kB 4.3MB/s eta 0:00:01\r\u001b[K     |████████████████████████████▏   | 634kB 4.3MB/s eta 0:00:01\r\u001b[K     |████████████████████████████▊   | 645kB 4.3MB/s eta 0:00:01\r\u001b[K     |█████████████████████████████▏  | 655kB 4.3MB/s eta 0:00:01\r\u001b[K     |█████████████████████████████▋  | 665kB 4.3MB/s eta 0:00:01\r\u001b[K     |██████████████████████████████  | 675kB 4.3MB/s eta 0:00:01\r\u001b[K     |██████████████████████████████▌ | 686kB 4.3MB/s eta 0:00:01\r\u001b[K     |███████████████████████████████ | 696kB 4.3MB/s eta 0:00:01\r\u001b[K     |███████████████████████████████▍| 706kB 4.3MB/s eta 0:00:01\r\u001b[K     |███████████████████████████████▉| 716kB 4.3MB/s eta 0:00:01\r\u001b[K     |████████████████████████████████| 727kB 4.3MB/s \n",
            "\u001b[K     |████████████████████████████████| 204kB 35.9MB/s \n",
            "\u001b[K     |████████████████████████████████| 51kB 6.9MB/s \n",
            "\u001b[K     |████████████████████████████████| 1.2MB 38.3MB/s \n",
            "\u001b[K     |████████████████████████████████| 61kB 8.4MB/s \n",
            "\u001b[K     |████████████████████████████████| 61kB 8.5MB/s \n",
            "\u001b[?25hMounted at /content/gdrive\n",
            "Drive already mounted at /content/gdrive; to attempt to forcibly remount, call drive.mount(\"/content/gdrive\", force_remount=True).\n"
          ],
          "name": "stdout"
        }
      ]
    },
    {
      "cell_type": "code",
      "metadata": {
        "id": "FutIXD1oBHQK"
      },
      "source": [
        "from fastai.tabular.all import *\n",
        "from sklearn.model_selection import train_test_split\n"
      ],
      "execution_count": 2,
      "outputs": []
    },
    {
      "cell_type": "code",
      "metadata": {
        "colab": {
          "base_uri": "https://localhost:8080/",
          "height": 268
        },
        "id": "wSp-_waMWsrQ",
        "outputId": "d69daf59-c297-4f0a-9217-55a5bf8c1e5d"
      },
      "source": [
        "cancer = pd.read_csv(\"http://logopt.com/data/cancer.csv\", index_col=0)\n",
        "cancer.head()"
      ],
      "execution_count": 3,
      "outputs": [
        {
          "output_type": "execute_result",
          "data": {
            "text/html": [
              "<div>\n",
              "<style scoped>\n",
              "    .dataframe tbody tr th:only-of-type {\n",
              "        vertical-align: middle;\n",
              "    }\n",
              "\n",
              "    .dataframe tbody tr th {\n",
              "        vertical-align: top;\n",
              "    }\n",
              "\n",
              "    .dataframe thead th {\n",
              "        text-align: right;\n",
              "    }\n",
              "</style>\n",
              "<table border=\"1\" class=\"dataframe\">\n",
              "  <thead>\n",
              "    <tr style=\"text-align: right;\">\n",
              "      <th></th>\n",
              "      <th>diagnosis</th>\n",
              "      <th>radius_mean</th>\n",
              "      <th>texture_mean</th>\n",
              "      <th>perimeter_mean</th>\n",
              "      <th>area_mean</th>\n",
              "      <th>smoothness_mean</th>\n",
              "      <th>compactness_mean</th>\n",
              "      <th>concavity_mean</th>\n",
              "      <th>concave points_mean</th>\n",
              "      <th>symmetry_mean</th>\n",
              "      <th>fractal_dimension_mean</th>\n",
              "      <th>radius_se</th>\n",
              "      <th>texture_se</th>\n",
              "      <th>perimeter_se</th>\n",
              "      <th>area_se</th>\n",
              "      <th>smoothness_se</th>\n",
              "      <th>compactness_se</th>\n",
              "      <th>concavity_se</th>\n",
              "      <th>concave points_se</th>\n",
              "      <th>symmetry_se</th>\n",
              "      <th>fractal_dimension_se</th>\n",
              "      <th>radius_worst</th>\n",
              "      <th>texture_worst</th>\n",
              "      <th>perimeter_worst</th>\n",
              "      <th>area_worst</th>\n",
              "      <th>smoothness_worst</th>\n",
              "      <th>compactness_worst</th>\n",
              "      <th>concavity_worst</th>\n",
              "      <th>concave points_worst</th>\n",
              "      <th>symmetry_worst</th>\n",
              "      <th>fractal_dimension_worst</th>\n",
              "    </tr>\n",
              "    <tr>\n",
              "      <th>id</th>\n",
              "      <th></th>\n",
              "      <th></th>\n",
              "      <th></th>\n",
              "      <th></th>\n",
              "      <th></th>\n",
              "      <th></th>\n",
              "      <th></th>\n",
              "      <th></th>\n",
              "      <th></th>\n",
              "      <th></th>\n",
              "      <th></th>\n",
              "      <th></th>\n",
              "      <th></th>\n",
              "      <th></th>\n",
              "      <th></th>\n",
              "      <th></th>\n",
              "      <th></th>\n",
              "      <th></th>\n",
              "      <th></th>\n",
              "      <th></th>\n",
              "      <th></th>\n",
              "      <th></th>\n",
              "      <th></th>\n",
              "      <th></th>\n",
              "      <th></th>\n",
              "      <th></th>\n",
              "      <th></th>\n",
              "      <th></th>\n",
              "      <th></th>\n",
              "      <th></th>\n",
              "      <th></th>\n",
              "    </tr>\n",
              "  </thead>\n",
              "  <tbody>\n",
              "    <tr>\n",
              "      <th>842302</th>\n",
              "      <td>M</td>\n",
              "      <td>17.99</td>\n",
              "      <td>10.38</td>\n",
              "      <td>122.80</td>\n",
              "      <td>1001.0</td>\n",
              "      <td>0.11840</td>\n",
              "      <td>0.27760</td>\n",
              "      <td>0.3001</td>\n",
              "      <td>0.14710</td>\n",
              "      <td>0.2419</td>\n",
              "      <td>0.07871</td>\n",
              "      <td>1.0950</td>\n",
              "      <td>0.9053</td>\n",
              "      <td>8.589</td>\n",
              "      <td>153.40</td>\n",
              "      <td>0.006399</td>\n",
              "      <td>0.04904</td>\n",
              "      <td>0.05373</td>\n",
              "      <td>0.01587</td>\n",
              "      <td>0.03003</td>\n",
              "      <td>0.006193</td>\n",
              "      <td>25.38</td>\n",
              "      <td>17.33</td>\n",
              "      <td>184.60</td>\n",
              "      <td>2019.0</td>\n",
              "      <td>0.1622</td>\n",
              "      <td>0.6656</td>\n",
              "      <td>0.7119</td>\n",
              "      <td>0.2654</td>\n",
              "      <td>0.4601</td>\n",
              "      <td>0.11890</td>\n",
              "    </tr>\n",
              "    <tr>\n",
              "      <th>842517</th>\n",
              "      <td>M</td>\n",
              "      <td>20.57</td>\n",
              "      <td>17.77</td>\n",
              "      <td>132.90</td>\n",
              "      <td>1326.0</td>\n",
              "      <td>0.08474</td>\n",
              "      <td>0.07864</td>\n",
              "      <td>0.0869</td>\n",
              "      <td>0.07017</td>\n",
              "      <td>0.1812</td>\n",
              "      <td>0.05667</td>\n",
              "      <td>0.5435</td>\n",
              "      <td>0.7339</td>\n",
              "      <td>3.398</td>\n",
              "      <td>74.08</td>\n",
              "      <td>0.005225</td>\n",
              "      <td>0.01308</td>\n",
              "      <td>0.01860</td>\n",
              "      <td>0.01340</td>\n",
              "      <td>0.01389</td>\n",
              "      <td>0.003532</td>\n",
              "      <td>24.99</td>\n",
              "      <td>23.41</td>\n",
              "      <td>158.80</td>\n",
              "      <td>1956.0</td>\n",
              "      <td>0.1238</td>\n",
              "      <td>0.1866</td>\n",
              "      <td>0.2416</td>\n",
              "      <td>0.1860</td>\n",
              "      <td>0.2750</td>\n",
              "      <td>0.08902</td>\n",
              "    </tr>\n",
              "    <tr>\n",
              "      <th>84300903</th>\n",
              "      <td>M</td>\n",
              "      <td>19.69</td>\n",
              "      <td>21.25</td>\n",
              "      <td>130.00</td>\n",
              "      <td>1203.0</td>\n",
              "      <td>0.10960</td>\n",
              "      <td>0.15990</td>\n",
              "      <td>0.1974</td>\n",
              "      <td>0.12790</td>\n",
              "      <td>0.2069</td>\n",
              "      <td>0.05999</td>\n",
              "      <td>0.7456</td>\n",
              "      <td>0.7869</td>\n",
              "      <td>4.585</td>\n",
              "      <td>94.03</td>\n",
              "      <td>0.006150</td>\n",
              "      <td>0.04006</td>\n",
              "      <td>0.03832</td>\n",
              "      <td>0.02058</td>\n",
              "      <td>0.02250</td>\n",
              "      <td>0.004571</td>\n",
              "      <td>23.57</td>\n",
              "      <td>25.53</td>\n",
              "      <td>152.50</td>\n",
              "      <td>1709.0</td>\n",
              "      <td>0.1444</td>\n",
              "      <td>0.4245</td>\n",
              "      <td>0.4504</td>\n",
              "      <td>0.2430</td>\n",
              "      <td>0.3613</td>\n",
              "      <td>0.08758</td>\n",
              "    </tr>\n",
              "    <tr>\n",
              "      <th>84348301</th>\n",
              "      <td>M</td>\n",
              "      <td>11.42</td>\n",
              "      <td>20.38</td>\n",
              "      <td>77.58</td>\n",
              "      <td>386.1</td>\n",
              "      <td>0.14250</td>\n",
              "      <td>0.28390</td>\n",
              "      <td>0.2414</td>\n",
              "      <td>0.10520</td>\n",
              "      <td>0.2597</td>\n",
              "      <td>0.09744</td>\n",
              "      <td>0.4956</td>\n",
              "      <td>1.1560</td>\n",
              "      <td>3.445</td>\n",
              "      <td>27.23</td>\n",
              "      <td>0.009110</td>\n",
              "      <td>0.07458</td>\n",
              "      <td>0.05661</td>\n",
              "      <td>0.01867</td>\n",
              "      <td>0.05963</td>\n",
              "      <td>0.009208</td>\n",
              "      <td>14.91</td>\n",
              "      <td>26.50</td>\n",
              "      <td>98.87</td>\n",
              "      <td>567.7</td>\n",
              "      <td>0.2098</td>\n",
              "      <td>0.8663</td>\n",
              "      <td>0.6869</td>\n",
              "      <td>0.2575</td>\n",
              "      <td>0.6638</td>\n",
              "      <td>0.17300</td>\n",
              "    </tr>\n",
              "    <tr>\n",
              "      <th>84358402</th>\n",
              "      <td>M</td>\n",
              "      <td>20.29</td>\n",
              "      <td>14.34</td>\n",
              "      <td>135.10</td>\n",
              "      <td>1297.0</td>\n",
              "      <td>0.10030</td>\n",
              "      <td>0.13280</td>\n",
              "      <td>0.1980</td>\n",
              "      <td>0.10430</td>\n",
              "      <td>0.1809</td>\n",
              "      <td>0.05883</td>\n",
              "      <td>0.7572</td>\n",
              "      <td>0.7813</td>\n",
              "      <td>5.438</td>\n",
              "      <td>94.44</td>\n",
              "      <td>0.011490</td>\n",
              "      <td>0.02461</td>\n",
              "      <td>0.05688</td>\n",
              "      <td>0.01885</td>\n",
              "      <td>0.01756</td>\n",
              "      <td>0.005115</td>\n",
              "      <td>22.54</td>\n",
              "      <td>16.67</td>\n",
              "      <td>152.20</td>\n",
              "      <td>1575.0</td>\n",
              "      <td>0.1374</td>\n",
              "      <td>0.2050</td>\n",
              "      <td>0.4000</td>\n",
              "      <td>0.1625</td>\n",
              "      <td>0.2364</td>\n",
              "      <td>0.07678</td>\n",
              "    </tr>\n",
              "  </tbody>\n",
              "</table>\n",
              "</div>"
            ],
            "text/plain": [
              "         diagnosis  radius_mean  texture_mean  perimeter_mean  area_mean  \\\n",
              "id                                                                         \n",
              "842302           M        17.99         10.38          122.80     1001.0   \n",
              "842517           M        20.57         17.77          132.90     1326.0   \n",
              "84300903         M        19.69         21.25          130.00     1203.0   \n",
              "84348301         M        11.42         20.38           77.58      386.1   \n",
              "84358402         M        20.29         14.34          135.10     1297.0   \n",
              "\n",
              "          smoothness_mean  compactness_mean  concavity_mean  \\\n",
              "id                                                            \n",
              "842302            0.11840           0.27760          0.3001   \n",
              "842517            0.08474           0.07864          0.0869   \n",
              "84300903          0.10960           0.15990          0.1974   \n",
              "84348301          0.14250           0.28390          0.2414   \n",
              "84358402          0.10030           0.13280          0.1980   \n",
              "\n",
              "          concave points_mean  symmetry_mean  fractal_dimension_mean  \\\n",
              "id                                                                     \n",
              "842302                0.14710         0.2419                 0.07871   \n",
              "842517                0.07017         0.1812                 0.05667   \n",
              "84300903              0.12790         0.2069                 0.05999   \n",
              "84348301              0.10520         0.2597                 0.09744   \n",
              "84358402              0.10430         0.1809                 0.05883   \n",
              "\n",
              "          radius_se  texture_se  perimeter_se  area_se  smoothness_se  \\\n",
              "id                                                                      \n",
              "842302       1.0950      0.9053         8.589   153.40       0.006399   \n",
              "842517       0.5435      0.7339         3.398    74.08       0.005225   \n",
              "84300903     0.7456      0.7869         4.585    94.03       0.006150   \n",
              "84348301     0.4956      1.1560         3.445    27.23       0.009110   \n",
              "84358402     0.7572      0.7813         5.438    94.44       0.011490   \n",
              "\n",
              "          compactness_se  concavity_se  concave points_se  symmetry_se  \\\n",
              "id                                                                       \n",
              "842302           0.04904       0.05373            0.01587      0.03003   \n",
              "842517           0.01308       0.01860            0.01340      0.01389   \n",
              "84300903         0.04006       0.03832            0.02058      0.02250   \n",
              "84348301         0.07458       0.05661            0.01867      0.05963   \n",
              "84358402         0.02461       0.05688            0.01885      0.01756   \n",
              "\n",
              "          fractal_dimension_se  radius_worst  texture_worst  perimeter_worst  \\\n",
              "id                                                                             \n",
              "842302                0.006193         25.38          17.33           184.60   \n",
              "842517                0.003532         24.99          23.41           158.80   \n",
              "84300903              0.004571         23.57          25.53           152.50   \n",
              "84348301              0.009208         14.91          26.50            98.87   \n",
              "84358402              0.005115         22.54          16.67           152.20   \n",
              "\n",
              "          area_worst  smoothness_worst  compactness_worst  concavity_worst  \\\n",
              "id                                                                           \n",
              "842302        2019.0            0.1622             0.6656           0.7119   \n",
              "842517        1956.0            0.1238             0.1866           0.2416   \n",
              "84300903      1709.0            0.1444             0.4245           0.4504   \n",
              "84348301       567.7            0.2098             0.8663           0.6869   \n",
              "84358402      1575.0            0.1374             0.2050           0.4000   \n",
              "\n",
              "          concave points_worst  symmetry_worst  fractal_dimension_worst  \n",
              "id                                                                       \n",
              "842302                  0.2654          0.4601                  0.11890  \n",
              "842517                  0.1860          0.2750                  0.08902  \n",
              "84300903                0.2430          0.3613                  0.08758  \n",
              "84348301                0.2575          0.6638                  0.17300  \n",
              "84358402                0.1625          0.2364                  0.07678  "
            ]
          },
          "metadata": {
            "tags": []
          },
          "execution_count": 3
        }
      ]
    },
    {
      "cell_type": "code",
      "metadata": {
        "id": "tXShzDF7WtCR"
      },
      "source": [
        "dep_var = 'diagnosis'\n",
        "procs = [Categorify, FillMissing, Normalize]\n",
        "train_idx, test_idx = train_test_split(range(len(cancer)), test_size = 0.3)\n",
        "cont_names, cat_names = cont_cat_split(cancer, max_card = 50, dep_var = dep_var)"
      ],
      "execution_count": 4,
      "outputs": []
    },
    {
      "cell_type": "code",
      "metadata": {
        "colab": {
          "base_uri": "https://localhost:8080/"
        },
        "id": "PNxrcWT_BJbW",
        "outputId": "4e3ef783-6b0e-40ad-e9cc-e563ff0d4a12"
      },
      "source": [
        "len(train_idx), len(test_idx)"
      ],
      "execution_count": 5,
      "outputs": [
        {
          "output_type": "execute_result",
          "data": {
            "text/plain": [
              "(398, 171)"
            ]
          },
          "metadata": {
            "tags": []
          },
          "execution_count": 5
        }
      ]
    },
    {
      "cell_type": "code",
      "metadata": {
        "id": "bY9A7_7EAkO2"
      },
      "source": [
        "train = cancer.iloc[train_idx]\n",
        "test = cancer.iloc[test_idx]\n"
      ],
      "execution_count": 6,
      "outputs": []
    },
    {
      "cell_type": "code",
      "metadata": {
        "colab": {
          "base_uri": "https://localhost:8080/"
        },
        "id": "CDmdnPV__VZD",
        "outputId": "405d1d43-7f0c-49c0-afcc-ae39ad932667"
      },
      "source": [
        "train.shape, test.shape\n",
        "\n"
      ],
      "execution_count": 7,
      "outputs": [
        {
          "output_type": "execute_result",
          "data": {
            "text/plain": [
              "((398, 31), (171, 31))"
            ]
          },
          "metadata": {
            "tags": []
          },
          "execution_count": 7
        }
      ]
    },
    {
      "cell_type": "code",
      "metadata": {
        "colab": {
          "base_uri": "https://localhost:8080/"
        },
        "id": "HHfWIukHW18R",
        "outputId": "c562fb91-c933-4a39-adfb-e8245a0bbc6a"
      },
      "source": [
        "cont_names, cat_names"
      ],
      "execution_count": 8,
      "outputs": [
        {
          "output_type": "execute_result",
          "data": {
            "text/plain": [
              "(['radius_mean',\n",
              "  'texture_mean',\n",
              "  'perimeter_mean',\n",
              "  'area_mean',\n",
              "  'smoothness_mean',\n",
              "  'compactness_mean',\n",
              "  'concavity_mean',\n",
              "  'concave points_mean',\n",
              "  'symmetry_mean',\n",
              "  'fractal_dimension_mean',\n",
              "  'radius_se',\n",
              "  'texture_se',\n",
              "  'perimeter_se',\n",
              "  'area_se',\n",
              "  'smoothness_se',\n",
              "  'compactness_se',\n",
              "  'concavity_se',\n",
              "  'concave points_se',\n",
              "  'symmetry_se',\n",
              "  'fractal_dimension_se',\n",
              "  'radius_worst',\n",
              "  'texture_worst',\n",
              "  'perimeter_worst',\n",
              "  'area_worst',\n",
              "  'smoothness_worst',\n",
              "  'compactness_worst',\n",
              "  'concavity_worst',\n",
              "  'concave points_worst',\n",
              "  'symmetry_worst',\n",
              "  'fractal_dimension_worst'],\n",
              " [])"
            ]
          },
          "metadata": {
            "tags": []
          },
          "execution_count": 8
        }
      ]
    },
    {
      "cell_type": "code",
      "metadata": {
        "id": "ROexiUw0W3it"
      },
      "source": [
        "dls = TabularDataLoaders.from_df(train, y_names='diagnosis', cat_names= cat_names ,cont_names=cont_names, procs= procs, bs=64)"
      ],
      "execution_count": 9,
      "outputs": []
    },
    {
      "cell_type": "code",
      "metadata": {
        "colab": {
          "base_uri": "https://localhost:8080/",
          "height": 392
        },
        "id": "rN5N9g0mX8E0",
        "outputId": "88423451-b283-49ad-af19-371ca95012ed"
      },
      "source": [
        "dls.show_batch()"
      ],
      "execution_count": 10,
      "outputs": [
        {
          "output_type": "display_data",
          "data": {
            "text/html": [
              "<table border=\"1\" class=\"dataframe\">\n",
              "  <thead>\n",
              "    <tr style=\"text-align: right;\">\n",
              "      <th></th>\n",
              "      <th>radius_mean</th>\n",
              "      <th>texture_mean</th>\n",
              "      <th>perimeter_mean</th>\n",
              "      <th>area_mean</th>\n",
              "      <th>smoothness_mean</th>\n",
              "      <th>compactness_mean</th>\n",
              "      <th>concavity_mean</th>\n",
              "      <th>concave points_mean</th>\n",
              "      <th>symmetry_mean</th>\n",
              "      <th>fractal_dimension_mean</th>\n",
              "      <th>radius_se</th>\n",
              "      <th>texture_se</th>\n",
              "      <th>perimeter_se</th>\n",
              "      <th>area_se</th>\n",
              "      <th>smoothness_se</th>\n",
              "      <th>compactness_se</th>\n",
              "      <th>concavity_se</th>\n",
              "      <th>concave points_se</th>\n",
              "      <th>symmetry_se</th>\n",
              "      <th>fractal_dimension_se</th>\n",
              "      <th>radius_worst</th>\n",
              "      <th>texture_worst</th>\n",
              "      <th>perimeter_worst</th>\n",
              "      <th>area_worst</th>\n",
              "      <th>smoothness_worst</th>\n",
              "      <th>compactness_worst</th>\n",
              "      <th>concavity_worst</th>\n",
              "      <th>concave points_worst</th>\n",
              "      <th>symmetry_worst</th>\n",
              "      <th>fractal_dimension_worst</th>\n",
              "      <th>diagnosis</th>\n",
              "    </tr>\n",
              "  </thead>\n",
              "  <tbody>\n",
              "    <tr>\n",
              "      <th>0</th>\n",
              "      <td>10.570000</td>\n",
              "      <td>18.320000</td>\n",
              "      <td>66.819999</td>\n",
              "      <td>340.900003</td>\n",
              "      <td>0.08142</td>\n",
              "      <td>0.04462</td>\n",
              "      <td>0.01993</td>\n",
              "      <td>0.01111</td>\n",
              "      <td>0.2372</td>\n",
              "      <td>0.05768</td>\n",
              "      <td>0.1818</td>\n",
              "      <td>2.5420</td>\n",
              "      <td>1.277</td>\n",
              "      <td>13.120001</td>\n",
              "      <td>0.010720</td>\n",
              "      <td>0.013310</td>\n",
              "      <td>0.019930</td>\n",
              "      <td>0.011110</td>\n",
              "      <td>0.01717</td>\n",
              "      <td>0.004492</td>\n",
              "      <td>10.940000</td>\n",
              "      <td>23.309999</td>\n",
              "      <td>69.349998</td>\n",
              "      <td>366.299972</td>\n",
              "      <td>0.09794</td>\n",
              "      <td>0.06542</td>\n",
              "      <td>0.03986</td>\n",
              "      <td>0.02222</td>\n",
              "      <td>0.2699</td>\n",
              "      <td>0.06736</td>\n",
              "      <td>B</td>\n",
              "    </tr>\n",
              "    <tr>\n",
              "      <th>1</th>\n",
              "      <td>14.110000</td>\n",
              "      <td>12.880000</td>\n",
              "      <td>90.029999</td>\n",
              "      <td>616.500001</td>\n",
              "      <td>0.09309</td>\n",
              "      <td>0.05306</td>\n",
              "      <td>0.01765</td>\n",
              "      <td>0.02733</td>\n",
              "      <td>0.1373</td>\n",
              "      <td>0.05700</td>\n",
              "      <td>0.2571</td>\n",
              "      <td>1.0810</td>\n",
              "      <td>1.558</td>\n",
              "      <td>23.920000</td>\n",
              "      <td>0.006692</td>\n",
              "      <td>0.011320</td>\n",
              "      <td>0.005717</td>\n",
              "      <td>0.006627</td>\n",
              "      <td>0.01416</td>\n",
              "      <td>0.002476</td>\n",
              "      <td>15.530000</td>\n",
              "      <td>18.000000</td>\n",
              "      <td>98.400001</td>\n",
              "      <td>749.900022</td>\n",
              "      <td>0.12810</td>\n",
              "      <td>0.11090</td>\n",
              "      <td>0.05307</td>\n",
              "      <td>0.05890</td>\n",
              "      <td>0.2100</td>\n",
              "      <td>0.07083</td>\n",
              "      <td>B</td>\n",
              "    </tr>\n",
              "    <tr>\n",
              "      <th>2</th>\n",
              "      <td>18.809999</td>\n",
              "      <td>19.980000</td>\n",
              "      <td>120.900001</td>\n",
              "      <td>1102.000017</td>\n",
              "      <td>0.08923</td>\n",
              "      <td>0.05884</td>\n",
              "      <td>0.08020</td>\n",
              "      <td>0.05843</td>\n",
              "      <td>0.1550</td>\n",
              "      <td>0.04996</td>\n",
              "      <td>0.3283</td>\n",
              "      <td>0.8280</td>\n",
              "      <td>2.363</td>\n",
              "      <td>36.740002</td>\n",
              "      <td>0.007571</td>\n",
              "      <td>0.011140</td>\n",
              "      <td>0.026230</td>\n",
              "      <td>0.014630</td>\n",
              "      <td>0.01930</td>\n",
              "      <td>0.001676</td>\n",
              "      <td>19.959999</td>\n",
              "      <td>24.299999</td>\n",
              "      <td>129.000000</td>\n",
              "      <td>1236.000001</td>\n",
              "      <td>0.12430</td>\n",
              "      <td>0.11600</td>\n",
              "      <td>0.22100</td>\n",
              "      <td>0.12940</td>\n",
              "      <td>0.2567</td>\n",
              "      <td>0.05737</td>\n",
              "      <td>M</td>\n",
              "    </tr>\n",
              "    <tr>\n",
              "      <th>3</th>\n",
              "      <td>9.876001</td>\n",
              "      <td>17.270000</td>\n",
              "      <td>62.919998</td>\n",
              "      <td>295.400009</td>\n",
              "      <td>0.10890</td>\n",
              "      <td>0.07232</td>\n",
              "      <td>0.01756</td>\n",
              "      <td>0.01952</td>\n",
              "      <td>0.1934</td>\n",
              "      <td>0.06285</td>\n",
              "      <td>0.2137</td>\n",
              "      <td>1.3420</td>\n",
              "      <td>1.517</td>\n",
              "      <td>12.330000</td>\n",
              "      <td>0.009719</td>\n",
              "      <td>0.012490</td>\n",
              "      <td>0.007975</td>\n",
              "      <td>0.007527</td>\n",
              "      <td>0.02210</td>\n",
              "      <td>0.002472</td>\n",
              "      <td>10.420000</td>\n",
              "      <td>23.219999</td>\n",
              "      <td>67.080001</td>\n",
              "      <td>331.600016</td>\n",
              "      <td>0.14150</td>\n",
              "      <td>0.12470</td>\n",
              "      <td>0.06213</td>\n",
              "      <td>0.05588</td>\n",
              "      <td>0.2989</td>\n",
              "      <td>0.07380</td>\n",
              "      <td>B</td>\n",
              "    </tr>\n",
              "    <tr>\n",
              "      <th>4</th>\n",
              "      <td>17.299999</td>\n",
              "      <td>17.080000</td>\n",
              "      <td>112.999999</td>\n",
              "      <td>928.200011</td>\n",
              "      <td>0.10080</td>\n",
              "      <td>0.10410</td>\n",
              "      <td>0.12660</td>\n",
              "      <td>0.08353</td>\n",
              "      <td>0.1813</td>\n",
              "      <td>0.05613</td>\n",
              "      <td>0.3093</td>\n",
              "      <td>0.8568</td>\n",
              "      <td>2.193</td>\n",
              "      <td>33.630001</td>\n",
              "      <td>0.004757</td>\n",
              "      <td>0.015030</td>\n",
              "      <td>0.023320</td>\n",
              "      <td>0.012620</td>\n",
              "      <td>0.01394</td>\n",
              "      <td>0.002362</td>\n",
              "      <td>19.850001</td>\n",
              "      <td>25.090000</td>\n",
              "      <td>130.899995</td>\n",
              "      <td>1221.999987</td>\n",
              "      <td>0.14160</td>\n",
              "      <td>0.24050</td>\n",
              "      <td>0.33780</td>\n",
              "      <td>0.18570</td>\n",
              "      <td>0.3138</td>\n",
              "      <td>0.08113</td>\n",
              "      <td>M</td>\n",
              "    </tr>\n",
              "    <tr>\n",
              "      <th>5</th>\n",
              "      <td>14.950000</td>\n",
              "      <td>17.570000</td>\n",
              "      <td>96.849999</td>\n",
              "      <td>678.099977</td>\n",
              "      <td>0.11670</td>\n",
              "      <td>0.13050</td>\n",
              "      <td>0.15390</td>\n",
              "      <td>0.08624</td>\n",
              "      <td>0.1957</td>\n",
              "      <td>0.06216</td>\n",
              "      <td>1.2960</td>\n",
              "      <td>1.4520</td>\n",
              "      <td>8.419</td>\n",
              "      <td>101.900002</td>\n",
              "      <td>0.010000</td>\n",
              "      <td>0.034800</td>\n",
              "      <td>0.065770</td>\n",
              "      <td>0.028010</td>\n",
              "      <td>0.05168</td>\n",
              "      <td>0.002887</td>\n",
              "      <td>18.549999</td>\n",
              "      <td>21.430000</td>\n",
              "      <td>121.400001</td>\n",
              "      <td>971.400023</td>\n",
              "      <td>0.14110</td>\n",
              "      <td>0.21640</td>\n",
              "      <td>0.33550</td>\n",
              "      <td>0.16670</td>\n",
              "      <td>0.3414</td>\n",
              "      <td>0.07147</td>\n",
              "      <td>M</td>\n",
              "    </tr>\n",
              "    <tr>\n",
              "      <th>6</th>\n",
              "      <td>15.100000</td>\n",
              "      <td>16.389999</td>\n",
              "      <td>99.580002</td>\n",
              "      <td>674.500000</td>\n",
              "      <td>0.11500</td>\n",
              "      <td>0.18070</td>\n",
              "      <td>0.11380</td>\n",
              "      <td>0.08534</td>\n",
              "      <td>0.2001</td>\n",
              "      <td>0.06467</td>\n",
              "      <td>0.4309</td>\n",
              "      <td>1.0680</td>\n",
              "      <td>2.796</td>\n",
              "      <td>39.840000</td>\n",
              "      <td>0.009006</td>\n",
              "      <td>0.041850</td>\n",
              "      <td>0.032040</td>\n",
              "      <td>0.022580</td>\n",
              "      <td>0.02353</td>\n",
              "      <td>0.004984</td>\n",
              "      <td>16.110001</td>\n",
              "      <td>18.330000</td>\n",
              "      <td>105.900002</td>\n",
              "      <td>762.599976</td>\n",
              "      <td>0.13860</td>\n",
              "      <td>0.28830</td>\n",
              "      <td>0.19600</td>\n",
              "      <td>0.14230</td>\n",
              "      <td>0.2590</td>\n",
              "      <td>0.07779</td>\n",
              "      <td>B</td>\n",
              "    </tr>\n",
              "    <tr>\n",
              "      <th>7</th>\n",
              "      <td>12.310000</td>\n",
              "      <td>16.520000</td>\n",
              "      <td>79.190003</td>\n",
              "      <td>470.899994</td>\n",
              "      <td>0.09172</td>\n",
              "      <td>0.06829</td>\n",
              "      <td>0.03372</td>\n",
              "      <td>0.02272</td>\n",
              "      <td>0.1720</td>\n",
              "      <td>0.05914</td>\n",
              "      <td>0.2505</td>\n",
              "      <td>1.0250</td>\n",
              "      <td>1.740</td>\n",
              "      <td>19.680000</td>\n",
              "      <td>0.004854</td>\n",
              "      <td>0.018190</td>\n",
              "      <td>0.018260</td>\n",
              "      <td>0.007965</td>\n",
              "      <td>0.01386</td>\n",
              "      <td>0.002304</td>\n",
              "      <td>14.110000</td>\n",
              "      <td>23.209999</td>\n",
              "      <td>89.709998</td>\n",
              "      <td>611.099972</td>\n",
              "      <td>0.11760</td>\n",
              "      <td>0.18430</td>\n",
              "      <td>0.17030</td>\n",
              "      <td>0.08660</td>\n",
              "      <td>0.2618</td>\n",
              "      <td>0.07609</td>\n",
              "      <td>B</td>\n",
              "    </tr>\n",
              "    <tr>\n",
              "      <th>8</th>\n",
              "      <td>12.180000</td>\n",
              "      <td>20.520000</td>\n",
              "      <td>77.220001</td>\n",
              "      <td>458.700008</td>\n",
              "      <td>0.08013</td>\n",
              "      <td>0.04038</td>\n",
              "      <td>0.02383</td>\n",
              "      <td>0.01770</td>\n",
              "      <td>0.1739</td>\n",
              "      <td>0.05677</td>\n",
              "      <td>0.1924</td>\n",
              "      <td>1.5710</td>\n",
              "      <td>1.183</td>\n",
              "      <td>14.680000</td>\n",
              "      <td>0.005080</td>\n",
              "      <td>0.006098</td>\n",
              "      <td>0.010690</td>\n",
              "      <td>0.006797</td>\n",
              "      <td>0.01447</td>\n",
              "      <td>0.001532</td>\n",
              "      <td>13.340000</td>\n",
              "      <td>32.840000</td>\n",
              "      <td>84.580001</td>\n",
              "      <td>547.799977</td>\n",
              "      <td>0.11230</td>\n",
              "      <td>0.08862</td>\n",
              "      <td>0.11450</td>\n",
              "      <td>0.07431</td>\n",
              "      <td>0.2694</td>\n",
              "      <td>0.06878</td>\n",
              "      <td>B</td>\n",
              "    </tr>\n",
              "    <tr>\n",
              "      <th>9</th>\n",
              "      <td>9.742000</td>\n",
              "      <td>15.670000</td>\n",
              "      <td>61.499999</td>\n",
              "      <td>289.900012</td>\n",
              "      <td>0.09037</td>\n",
              "      <td>0.04689</td>\n",
              "      <td>0.01103</td>\n",
              "      <td>0.01407</td>\n",
              "      <td>0.2081</td>\n",
              "      <td>0.06312</td>\n",
              "      <td>0.2684</td>\n",
              "      <td>1.4090</td>\n",
              "      <td>1.750</td>\n",
              "      <td>16.390000</td>\n",
              "      <td>0.013800</td>\n",
              "      <td>0.010670</td>\n",
              "      <td>0.008347</td>\n",
              "      <td>0.009472</td>\n",
              "      <td>0.01798</td>\n",
              "      <td>0.004261</td>\n",
              "      <td>10.750000</td>\n",
              "      <td>20.879999</td>\n",
              "      <td>68.089997</td>\n",
              "      <td>355.200010</td>\n",
              "      <td>0.14670</td>\n",
              "      <td>0.09370</td>\n",
              "      <td>0.04043</td>\n",
              "      <td>0.05159</td>\n",
              "      <td>0.2841</td>\n",
              "      <td>0.08175</td>\n",
              "      <td>B</td>\n",
              "    </tr>\n",
              "  </tbody>\n",
              "</table>"
            ],
            "text/plain": [
              "<IPython.core.display.HTML object>"
            ]
          },
          "metadata": {
            "tags": []
          }
        }
      ]
    },
    {
      "cell_type": "markdown",
      "metadata": {
        "id": "k3hnEK5IcFYu"
      },
      "source": [
        ""
      ]
    },
    {
      "cell_type": "code",
      "metadata": {
        "id": "FnoyStnzXFfN"
      },
      "source": [
        "learn = tabular_learner(dls, metrics=accuracy)"
      ],
      "execution_count": 11,
      "outputs": []
    },
    {
      "cell_type": "code",
      "metadata": {
        "colab": {
          "base_uri": "https://localhost:8080/",
          "height": 302
        },
        "id": "ExsMqA-lXT_k",
        "outputId": "e31592c7-e2ef-4a0d-9bbf-859ab7ce5514"
      },
      "source": [
        "learn.lr_find()"
      ],
      "execution_count": 12,
      "outputs": [
        {
          "output_type": "display_data",
          "data": {
            "text/html": [
              ""
            ],
            "text/plain": [
              "<IPython.core.display.HTML object>"
            ]
          },
          "metadata": {
            "tags": []
          }
        },
        {
          "output_type": "execute_result",
          "data": {
            "text/plain": [
              "SuggestedLRs(lr_min=0.05248074531555176, lr_steep=0.0008317637839354575)"
            ]
          },
          "metadata": {
            "tags": []
          },
          "execution_count": 12
        },
        {
          "output_type": "display_data",
          "data": {
            "image/png": "[encoded data removed]",
            "text/plain": [
              "<Figure size 432x288 with 1 Axes>"
            ]
          },
          "metadata": {
            "tags": [],
            "needs_background": "light"
          }
        }
      ]
    },
    {
      "cell_type": "code",
      "metadata": {
        "colab": {
          "base_uri": "https://localhost:8080/",
          "height": 110
        },
        "id": "TtDkjXhKX3XV",
        "outputId": "7d00f6d5-4879-4112-e7d4-7d9acb11d90b"
      },
      "source": [
        "learn.fit_one_cycle(2, 1e-3)"
      ],
      "execution_count": 13,
      "outputs": [
        {
          "output_type": "display_data",
          "data": {
            "text/html": [
              "<table border=\"1\" class=\"dataframe\">\n",
              "  <thead>\n",
              "    <tr style=\"text-align: left;\">\n",
              "      <th>epoch</th>\n",
              "      <th>train_loss</th>\n",
              "      <th>valid_loss</th>\n",
              "      <th>accuracy</th>\n",
              "      <th>time</th>\n",
              "    </tr>\n",
              "  </thead>\n",
              "  <tbody>\n",
              "    <tr>\n",
              "      <td>0</td>\n",
              "      <td>0.448526</td>\n",
              "      <td>0.535209</td>\n",
              "      <td>0.924051</td>\n",
              "      <td>00:00</td>\n",
              "    </tr>\n",
              "    <tr>\n",
              "      <td>1</td>\n",
              "      <td>0.313949</td>\n",
              "      <td>0.422172</td>\n",
              "      <td>0.962025</td>\n",
              "      <td>00:00</td>\n",
              "    </tr>\n",
              "  </tbody>\n",
              "</table>"
            ],
            "text/plain": [
              "<IPython.core.display.HTML object>"
            ]
          },
          "metadata": {
            "tags": []
          }
        }
      ]
    },
    {
      "cell_type": "code",
      "metadata": {
        "colab": {
          "base_uri": "https://localhost:8080/",
          "height": 16
        },
        "id": "8sW2leS7YPBJ",
        "outputId": "65341f50-111b-4946-b9bf-4a5784fd7f72"
      },
      "source": [
        "row, clas, probs = learn.predict(cancer.iloc[4])"
      ],
      "execution_count": 14,
      "outputs": [
        {
          "output_type": "display_data",
          "data": {
            "text/html": [
              ""
            ],
            "text/plain": [
              "<IPython.core.display.HTML object>"
            ]
          },
          "metadata": {
            "tags": []
          }
        }
      ]
    },
    {
      "cell_type": "code",
      "metadata": {
        "colab": {
          "base_uri": "https://localhost:8080/"
        },
        "id": "1iGRV-7hYage",
        "outputId": "c743d07d-28df-4cbc-887f-9d39ed9b3828"
      },
      "source": [
        "row['diagnosis'][0]"
      ],
      "execution_count": 15,
      "outputs": [
        {
          "output_type": "execute_result",
          "data": {
            "text/plain": [
              "1.0"
            ]
          },
          "metadata": {
            "tags": []
          },
          "execution_count": 15
        }
      ]
    },
    {
      "cell_type": "code",
      "metadata": {
        "id": "UJhwJpwAYbQg"
      },
      "source": [
        "\n",
        "import seaborn as sn\n",
        "import matplotlib.pyplot as plt\n",
        "\n",
        "pre_arr = []\n",
        "ans_arr = []\n",
        "\n",
        "def check_model(data, target_col):\n",
        "\n",
        "  size = len(data)\n",
        "\n",
        "  for k in range(size):\n",
        "    row, clas, probs = learn.predict(data.iloc[k])\n",
        "    res = row[target_col][0]\n",
        "    ans = data[target_col].values[k]\n",
        "    if(ans == 'M'):\n",
        "      ans = 1.0\n",
        "    elif(ans == 'B'):\n",
        "      ans = 0.0\n",
        "\n",
        "    pre_arr.append(res)\n",
        "    ans_arr.append(ans)\n",
        "    \n",
        "  # create confusion matrix from result\n",
        "  res_data = list(zip(ans_arr, pre_arr))\n",
        "  res_table = pd.DataFrame(res_data, columns = ['actual', 'predict'])\n",
        "  confusion_matrix = pd.crosstab(res_table['actual'], res_table['predict'], rownames=['Actual'], colnames=['Predicted'])\n",
        "  sn.heatmap(confusion_matrix, annot=True)\n",
        "  plt.show()\n",
        "  return confusion_matrix"
      ],
      "execution_count": 16,
      "outputs": []
    },
    {
      "cell_type": "code",
      "metadata": {
        "id": "4bdV6HyhiyDn"
      },
      "source": [
        "confusion_matrix = check_model(test, 'diagnosis')"
      ],
      "execution_count": null,
      "outputs": []
    },
    {
      "cell_type": "code",
      "metadata": {
        "id": "MXkDGW_5DtBa",
        "colab": {
          "base_uri": "https://localhost:8080/",
          "height": 141
        },
        "outputId": "b2cca047-22ae-4409-c4ac-f9f5872bf201"
      },
      "source": [
        "confusion_matrix"
      ],
      "execution_count": 18,
      "outputs": [
        {
          "output_type": "execute_result",
          "data": {
            "text/html": [
              "<div>\n",
              "<style scoped>\n",
              "    .dataframe tbody tr th:only-of-type {\n",
              "        vertical-align: middle;\n",
              "    }\n",
              "\n",
              "    .dataframe tbody tr th {\n",
              "        vertical-align: top;\n",
              "    }\n",
              "\n",
              "    .dataframe thead th {\n",
              "        text-align: right;\n",
              "    }\n",
              "</style>\n",
              "<table border=\"1\" class=\"dataframe\">\n",
              "  <thead>\n",
              "    <tr style=\"text-align: right;\">\n",
              "      <th>Predicted</th>\n",
              "      <th>0.0</th>\n",
              "      <th>1.0</th>\n",
              "    </tr>\n",
              "    <tr>\n",
              "      <th>Actual</th>\n",
              "      <th></th>\n",
              "      <th></th>\n",
              "    </tr>\n",
              "  </thead>\n",
              "  <tbody>\n",
              "    <tr>\n",
              "      <th>0.0</th>\n",
              "      <td>105</td>\n",
              "      <td>3</td>\n",
              "    </tr>\n",
              "    <tr>\n",
              "      <th>1.0</th>\n",
              "      <td>5</td>\n",
              "      <td>58</td>\n",
              "    </tr>\n",
              "  </tbody>\n",
              "</table>\n",
              "</div>"
            ],
            "text/plain": [
              "Predicted  0.0  1.0\n",
              "Actual             \n",
              "0.0        105    3\n",
              "1.0          5   58"
            ]
          },
          "metadata": {
            "tags": []
          },
          "execution_count": 18
        }
      ]
    },
    {
      "cell_type": "code",
      "metadata": {
        "id": "0nf74GHq_5MD"
      },
      "source": [
        ""
      ],
      "execution_count": null,
      "outputs": []
    }
  ]
}